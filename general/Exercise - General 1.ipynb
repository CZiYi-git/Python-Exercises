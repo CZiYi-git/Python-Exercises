{
 "cells": [
  {
   "cell_type": "code",
   "execution_count": null,
   "id": "2544a934",
   "metadata": {},
   "outputs": [],
   "source": [
    "# Fill in the blank to create a for loop that prints each item in the list fruits:\n",
    "# hint: for item in list\n",
    "\n",
    "fruits = [\"apple\", \"banana\", \"cherry\"]\n",
    "for ____ in ____:\n",
    "    print(fruit)\n"
   ]
  },
  {
   "cell_type": "code",
   "execution_count": null,
   "id": "1b6f16a5",
   "metadata": {},
   "outputs": [],
   "source": [
    "# Fill in the blank to create a while loop that prints the numbers from 0 to 4:\n",
    "# hint: i increase by 1\n",
    "\n",
    "i = 0\n",
    "while i < 5:\n",
    "    print(i)\n",
    "    i ___ 1\n"
   ]
  },
  {
   "cell_type": "code",
   "execution_count": null,
   "id": "e11cb9ed",
   "metadata": {},
   "outputs": [],
   "source": [
    "# Fill in the blank to create a for loop that prints the numbers from 1 to 5:\n",
    "# hint: range(start, stop)\n",
    "\n",
    "for i in range(1, __):\n",
    "    print(i)\n"
   ]
  },
  {
   "cell_type": "code",
   "execution_count": null,
   "id": "32ba5564",
   "metadata": {},
   "outputs": [],
   "source": [
    "# Fill in the blank to create a while loop that prints the even numbers from 2 to 8:\n",
    "# hint: i lesser than 9, i increase by 2\n",
    "\n",
    "i = 2\n",
    "while i __ 9:\n",
    "    print(i)\n",
    "    i __ 2\n"
   ]
  },
  {
   "cell_type": "code",
   "execution_count": null,
   "id": "e8cc1eeb",
   "metadata": {},
   "outputs": [],
   "source": [
    "# Fill in the blank to create a for loop that prints every other number from 1 to 9:\n",
    "# hint: range(start, stop, step)\n",
    "\n",
    "for i in range(___, ___, 2):\n",
    "    print(i)\n"
   ]
  },
  {
   "cell_type": "code",
   "execution_count": null,
   "id": "5b697ffe",
   "metadata": {},
   "outputs": [],
   "source": [
    "# Fill in the blank to create a while loop that prints the numbers from 10 to 1:\n",
    "# hint: i start at 10, i minus by 1\n",
    "\n",
    "i = __\n",
    "while i > 0:\n",
    "    print(i)\n",
    "    i __ 1\n"
   ]
  },
  {
   "cell_type": "code",
   "execution_count": null,
   "id": "1ae39f33",
   "metadata": {},
   "outputs": [],
   "source": [
    "# Fill in the blank to create a for loop that iterates over a string and prints each character:\n",
    "# hint: for letter in word\n",
    "\n",
    "\n",
    "my_string = \"hello\"\n",
    "for _____ in _____:\n",
    "    print(char)\n"
   ]
  },
  {
   "cell_type": "code",
   "execution_count": null,
   "id": "8d7d14c4",
   "metadata": {},
   "outputs": [],
   "source": [
    "# Fill in the blank to create a for loop that iterates over a list and prints each item, but skips the item \"apple\":\n",
    "# hint: if item equal \"apple\", continue\n",
    "\n",
    "\n",
    "my_list = [\"apple\", \"banana\", \"cherry\"]\n",
    "for item in my_list:\n",
    "    if item __ \"apple\":\n",
    "        _______\n",
    "    print(item)\n"
   ]
  },
  {
   "cell_type": "code",
   "execution_count": null,
   "id": "ec00a8be",
   "metadata": {},
   "outputs": [],
   "source": [
    "# Fill in the blank to create a while loop that prints the numbers from 1 to 10, but stops if the number 5 is reached:\n",
    "# hint: i starts at 1, if i equal 5, break\n",
    "\n",
    "i = __\n",
    "while i <= 10:\n",
    "    if i __ 5:\n",
    "        ____\n",
    "    print(i)\n",
    "    i += 1\n"
   ]
  },
  {
   "cell_type": "code",
   "execution_count": null,
   "id": "01a6ae3d",
   "metadata": {},
   "outputs": [],
   "source": [
    "# Fill in the blank to create a for loop that iterates over a range of numbers and adds each number to a variable total:\n",
    "# hint: start at 1, end at 11\n",
    "\n",
    "total = 0\n",
    "for i in range(__, __):\n",
    "    total += i\n",
    "print(total)\n"
   ]
  },
  {
   "cell_type": "code",
   "execution_count": null,
   "id": "aa48ca87",
   "metadata": {},
   "outputs": [],
   "source": [
    "# Fill in the blank: A loop is a way to __________ a set of instructions.\n",
    "# a. store\n",
    "# b. repeat\n",
    "# c. stop\n",
    "\n",
    "print(input('Ans: '))"
   ]
  },
  {
   "cell_type": "code",
   "execution_count": null,
   "id": "8ee99ce2",
   "metadata": {},
   "outputs": [],
   "source": [
    "# Fill in the blank: The purpose of a loop in programming is to __________ a set of instructions.\n",
    "# a. execute once\n",
    "# b. repeat\n",
    "# c. stop\n",
    "\n",
    "print(input('Ans: '))"
   ]
  },
  {
   "cell_type": "code",
   "execution_count": null,
   "id": "b18c8a2c",
   "metadata": {},
   "outputs": [],
   "source": [
    "# Fill in the blank: Which keyword is used to create a loop in Python? __________\n",
    "# a. loop\n",
    "# b. for\n",
    "# c. while\n",
    "\n",
    "print(input('Ans: '))"
   ]
  },
  {
   "cell_type": "code",
   "execution_count": null,
   "id": "2d066a90",
   "metadata": {},
   "outputs": [],
   "source": [
    "# Fill in the blank: The syntax for a for loop in Python is: for i in __________:\n",
    "# a. range(10)\n",
    "# b. while i < 10:\n",
    "# c. if i == 10:\n",
    "\n",
    "print(input('Ans: '))"
   ]
  },
  {
   "cell_type": "code",
   "execution_count": null,
   "id": "4f6a5857",
   "metadata": {},
   "outputs": [],
   "source": [
    "# Fill in the blank: The syntax for a while loop in Python is: while i < __________:\n",
    "# a. range(10)\n",
    "# b. 10\n",
    "# c. i == 10\n",
    "\n",
    "print(input('Ans: '))"
   ]
  },
  {
   "cell_type": "code",
   "execution_count": null,
   "id": "526fcbb8",
   "metadata": {},
   "outputs": [],
   "source": [
    "# Fill in the blank: How many times will a for loop with range(5) run? __________\n",
    "# a. 1\n",
    "# b. 5\n",
    "# c. 10\n",
    "\n",
    "print(input('Ans: '))"
   ]
  },
  {
   "cell_type": "code",
   "execution_count": null,
   "id": "8808e16c",
   "metadata": {},
   "outputs": [],
   "source": [
    "# Fill in the blank: How many times will a while loop with i < 5 run if i is initially set to 0? __________\n",
    "# a. 1\n",
    "# b. 5\n",
    "# c. Infinite\n",
    "\n",
    "print(input('Ans: '))"
   ]
  },
  {
   "cell_type": "code",
   "execution_count": null,
   "id": "e8b87dbb",
   "metadata": {},
   "outputs": [],
   "source": [
    "# Fill in the blank: The purpose of the \"continue\" keyword in a loop is to skip to the __________ iteration of the loop.\n",
    "# a. next\n",
    "# b. current\n",
    "# c. final\n",
    "\n",
    "print(input('Ans: '))"
   ]
  },
  {
   "cell_type": "code",
   "execution_count": null,
   "id": "fb6e118d",
   "metadata": {},
   "outputs": [],
   "source": [
    "# Fill in the blank: The purpose of the \"break\" keyword in a loop is to __________ the loop.\n",
    "# a. skip\n",
    "# b. exit\n",
    "# c. repeat\n",
    "\n",
    "print(input('Ans: '))"
   ]
  },
  {
   "cell_type": "code",
   "execution_count": null,
   "id": "d37845b3",
   "metadata": {},
   "outputs": [],
   "source": [
    "# Fill in the blank: What is an infinite loop? A loop that runs __________.\n",
    "# a. only once\n",
    "# b. forever\n",
    "# c. a few times\n",
    "\n",
    "print(input('Ans: '))"
   ]
  }
 ],
 "metadata": {
  "kernelspec": {
   "display_name": "Python 3 (ipykernel)",
   "language": "python",
   "name": "python3"
  },
  "language_info": {
   "codemirror_mode": {
    "name": "ipython",
    "version": 3
   },
   "file_extension": ".py",
   "mimetype": "text/x-python",
   "name": "python",
   "nbconvert_exporter": "python",
   "pygments_lexer": "ipython3",
   "version": "3.10.7"
  }
 },
 "nbformat": 4,
 "nbformat_minor": 5
}
