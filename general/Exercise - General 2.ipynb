{
 "cells": [
  {
   "cell_type": "code",
   "execution_count": 3,
   "id": "5cc7cd02",
   "metadata": {},
   "outputs": [
    {
     "name": "stdout",
     "output_type": "stream",
     "text": [
      "{}\n"
     ]
    }
   ],
   "source": [
    "# To create an empty dictionary, use the _________ notation.\n",
    "\n",
    "my_dict = {}\n",
    "print(my_dict)\n",
    "\n",
    "# a. {} b. [] c. ()"
   ]
  },
  {
   "cell_type": "code",
   "execution_count": 6,
   "id": "198e0019",
   "metadata": {},
   "outputs": [
    {
     "name": "stdout",
     "output_type": "stream",
     "text": [
      "{'key1': 'value', 'key2': 'value'}\n"
     ]
    }
   ],
   "source": [
    "\n",
    "# In a dictionary, a key-value pair is separated by a _________.\n",
    "\n",
    "my_dict = {\"key1\": \"value\" , \"key2\": \"value\"}\n",
    "print(my_dict)\n",
    "\n",
    "# a. :\n",
    "# b. ,\n",
    "# c. ;\n"
   ]
  },
  {
   "cell_type": "code",
   "execution_count": 11,
   "id": "024ad38a",
   "metadata": {},
   "outputs": [
    {
     "name": "stdout",
     "output_type": "stream",
     "text": [
      "{'key1': 'value1', 'key2': 'value2'}\n"
     ]
    }
   ],
   "source": [
    "# To add a new key-value pair to a dictionary, you can use the _________ method.\n",
    "\n",
    "my_dict = {\"key1\": \"value1\"}\n",
    "my_dict[\"key2\"] =  \"value2\"\n",
    "print(my_dict)\n",
    "\n",
    "# a. {\"key2\"} b. [\"key2\"] c. (\"key2\")\n",
    "\n"
   ]
  },
  {
   "cell_type": "code",
   "execution_count": 1,
   "id": "99972e48",
   "metadata": {},
   "outputs": [
    {
     "name": "stdout",
     "output_type": "stream",
     "text": [
      "value1\n"
     ]
    }
   ],
   "source": [
    "# To access the value of a specific key in a dictionary, use the _________ notation.\n",
    "\n",
    "my_dict = {\"key1\": \"value1\", \"key2\": \"value2\"}\n",
    "value = my_dict[\"key1\"]\n",
    "print(value)\n",
    "\n",
    "# a. [\"key1\"] b. (\"key1\") c. {\"key1\"}\n"
   ]
  },
  {
   "cell_type": "code",
   "execution_count": 3,
   "id": "b11b6bf3",
   "metadata": {},
   "outputs": [
    {
     "name": "stdout",
     "output_type": "stream",
     "text": [
      "dict_keys(['key1', 'key2'])\n"
     ]
    }
   ],
   "source": [
    "# The _________ method returns a list of all the keys in a dictionary.\n",
    "\n",
    "my_dict = {\"key1\": \"value1\", \"key2\": \"value2\"}\n",
    "keys_list = my_dict.keys()\n",
    "print(keys_list)\n",
    "\n",
    "# a. get_keys b. keys c. values\n",
    "\n"
   ]
  },
  {
   "cell_type": "code",
   "execution_count": 4,
   "id": "3f44fb89",
   "metadata": {},
   "outputs": [
    {
     "name": "stdout",
     "output_type": "stream",
     "text": [
      "dict_values(['value1', 'value2'])\n"
     ]
    }
   ],
   "source": [
    "# The _________ method returns a list of all the values in a dictionary.\n",
    "\n",
    "my_dict = {\"key1\": \"value1\", \"key2\": \"value2\"}\n",
    "values_list = my_dict.values()\n",
    "print(values_list)\n",
    "\n",
    "# a. get_values b. values c. keys\n",
    "\n"
   ]
  },
  {
   "cell_type": "code",
   "execution_count": 6,
   "id": "ce4ff2d8",
   "metadata": {},
   "outputs": [
    {
     "name": "stdout",
     "output_type": "stream",
     "text": [
      "{'key2': 'value2'}\n"
     ]
    }
   ],
   "source": [
    "# The _________ method removes the key-value pair for a specific key in a dictionary.\n",
    "\n",
    "my_dict = {\"key1\": \"value1\", \"key2\": \"value2\"}\n",
    "my_dict.pop(\"key1\")\n",
    "print(my_dict)\n",
    "\n",
    "\n",
    "# a. remove b. delete c. pop\n",
    "\n"
   ]
  },
  {
   "cell_type": "code",
   "execution_count": 7,
   "id": "1346232d",
   "metadata": {},
   "outputs": [
    {
     "name": "stdout",
     "output_type": "stream",
     "text": [
      "Key exists!\n"
     ]
    }
   ],
   "source": [
    "# The _________ keyword is used to check if a key is in a dictionary.\n",
    "\n",
    "my_dict = {\"key1\": \"value1\", \"key2\": \"value2\"}\n",
    "if \"key1\" in my_dict:\n",
    "    print(\"Key exists!\")\n",
    "    \n",
    "# a. in b. not in c. exists\n"
   ]
  },
  {
   "cell_type": "code",
   "execution_count": 9,
   "id": "a618dab5",
   "metadata": {},
   "outputs": [
    {
     "name": "stdout",
     "output_type": "stream",
     "text": [
      "2\n"
     ]
    }
   ],
   "source": [
    "# The _________ method returns the number of key-value pairs in a dictionary.\n",
    "\n",
    "my_dict = {\"key1\": \"value1\", \"key2\": \"value2\"}\n",
    "num_pairs = len(my_dict)\n",
    "print(num_pairs)\n",
    "\n",
    "# a. get_size(my_dict) b. size(my_dict) c. len(my_dict)"
   ]
  },
  {
   "cell_type": "code",
   "execution_count": 11,
   "id": "dbcf5f58",
   "metadata": {},
   "outputs": [
    {
     "name": "stdout",
     "output_type": "stream",
     "text": [
      "{}\n"
     ]
    }
   ],
   "source": [
    "# The _________ method removes all key-value pairs in a dictionary.\n",
    "\n",
    "my_dict = {\"key1\": \"value1\", \"key2\": \"value2\"}\n",
    "my_dict.clear()\n",
    "print(my_dict)\n",
    "\n",
    "# a. clear b. delete_all c. remove_all"
   ]
  },
  {
   "cell_type": "code",
   "execution_count": 13,
   "id": "19c4f9a3",
   "metadata": {},
   "outputs": [
    {
     "name": "stdout",
     "output_type": "stream",
     "text": [
      "{'name': 'John', 'age': 25}\n"
     ]
    }
   ],
   "source": [
    "# Fill in the code to create a dictionary called \"my_dict\" with the key-value pairs \"name\": \"John\" and \"age\": 25:\n",
    "my_dict = {'name': \"John\", 'age': 25}\n",
    "print(my_dict)"
   ]
  },
  {
   "cell_type": "code",
   "execution_count": 16,
   "id": "5ec0dd71",
   "metadata": {},
   "outputs": [
    {
     "name": "stdout",
     "output_type": "stream",
     "text": [
      "{'name': 'John', 'age': 25, 'city': 'New York'}\n"
     ]
    }
   ],
   "source": [
    "# Fill in the code to add a key-value pair \"city\": \"New York\" to the dictionary \"my_dict\":\n",
    "my_dict['city'] = \"New York\"\n",
    "print(my_dict)"
   ]
  },
  {
   "cell_type": "code",
   "execution_count": 17,
   "id": "cb67f448",
   "metadata": {},
   "outputs": [
    {
     "name": "stdout",
     "output_type": "stream",
     "text": [
      "{'name': 'John', 'age': 25, 'city': 'New York'}\n"
     ]
    }
   ],
   "source": [
    "# Fill in the code to access the value of the key \"age\" in the dictionary \"my_dict\":\n",
    "my_dict['age']\n",
    "print(my_dict)\n"
   ]
  },
  {
   "cell_type": "code",
   "execution_count": 18,
   "id": "b0fe337f",
   "metadata": {},
   "outputs": [
    {
     "name": "stdout",
     "output_type": "stream",
     "text": [
      "True\n"
     ]
    }
   ],
   "source": [
    "# Fill in the code to check if the key \"name\" exists in the dictionary \"my_dict\":\n",
    "print(\"name\" in my_dict)"
   ]
  },
  {
   "cell_type": "code",
   "execution_count": 19,
   "id": "7d6747c1",
   "metadata": {},
   "outputs": [
    {
     "name": "stdout",
     "output_type": "stream",
     "text": [
      "{'name': 'John', 'age': 25}\n"
     ]
    }
   ],
   "source": [
    "# Fill in the code to remove the key-value pair with key \"city\" from the dictionary \"my_dict\":\n",
    "my_dict.pop(\"city\")\n",
    "print(my_dict)\n",
    "\n",
    "# Hint: remove, replace, pop\n"
   ]
  },
  {
   "cell_type": "code",
   "execution_count": 20,
   "id": "0eb386cd",
   "metadata": {},
   "outputs": [
    {
     "name": "stdout",
     "output_type": "stream",
     "text": [
      "{'apple': 1, 'banana': 2, 'orange': 3}\n"
     ]
    }
   ],
   "source": [
    "# Fill in the code to add a key-value pair to a dictionary:\n",
    "my_dict = {\"apple\": 1, \"banana\": 2}\n",
    "my_dict['orange'] = 3\n",
    "print(my_dict)\n",
    "\n",
    "# Expected output: {'apple': 1, 'banana': 2, 'orange': 3}"
   ]
  },
  {
   "cell_type": "code",
   "execution_count": 22,
   "id": "bfa1487a",
   "metadata": {},
   "outputs": [
    {
     "name": "stdout",
     "output_type": "stream",
     "text": [
      "2\n"
     ]
    }
   ],
   "source": [
    "# Fill in the code to access the value associated with a key in a dictionary:\n",
    "my_dict = {\"apple\": 1, \"banana\": 2, \"orange\": 3}\n",
    "my_value = my_dict['banana']\n",
    "print(my_value)\n",
    "\n",
    "# Expected output: 2"
   ]
  },
  {
   "cell_type": "code",
   "execution_count": 23,
   "id": "ae9fa170",
   "metadata": {},
   "outputs": [
    {
     "name": "stdout",
     "output_type": "stream",
     "text": [
      "{'apple': 1, 'orange': 3}\n"
     ]
    }
   ],
   "source": [
    "# Fill in the code to remove a key-value pair from a dictionary:\n",
    "my_dict = {\"apple\": 1, \"banana\": 2, \"orange\": 3}\n",
    "del my_dict[\"banana\"]\n",
    "print(my_dict)"
   ]
  },
  {
   "cell_type": "code",
   "execution_count": 24,
   "id": "238d1f4b",
   "metadata": {},
   "outputs": [
    {
     "name": "stdout",
     "output_type": "stream",
     "text": [
      "{'apple': 1, 'orange': 3, 'age': 30}\n"
     ]
    }
   ],
   "source": [
    "# Fill in the code to update the value of the key \"age\" to 30 in the dictionary \"my_dict\":\n",
    "my_dict[\"age\"] = 30\n",
    "print(my_dict)"
   ]
  },
  {
   "cell_type": "code",
   "execution_count": null,
   "id": "7dfa1df7",
   "metadata": {},
   "outputs": [],
   "source": []
  }
 ],
 "metadata": {
  "kernelspec": {
   "display_name": "Python 3 (ipykernel)",
   "language": "python",
   "name": "python3"
  },
  "language_info": {
   "codemirror_mode": {
    "name": "ipython",
    "version": 3
   },
   "file_extension": ".py",
   "mimetype": "text/x-python",
   "name": "python",
   "nbconvert_exporter": "python",
   "pygments_lexer": "ipython3",
   "version": "3.10.8"
  },
  "vscode": {
   "interpreter": {
    "hash": "9cf1319f6cc31bff9645e44198dd02698af19f7b9bd096b68ef0c4d62d5f5887"
   }
  }
 },
 "nbformat": 4,
 "nbformat_minor": 5
}
