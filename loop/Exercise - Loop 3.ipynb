{
 "cells": [
  {
   "cell_type": "code",
   "execution_count": 5,
   "id": "2e075657",
   "metadata": {},
   "outputs": [
    {
     "name": "stdout",
     "output_type": "stream",
     "text": [
      "2\n",
      "4\n",
      "6\n",
      "8\n",
      "10\n",
      "12\n",
      "14\n",
      "16\n",
      "18\n",
      "20\n",
      "22\n",
      "24\n",
      "26\n",
      "28\n",
      "30\n",
      "32\n",
      "34\n",
      "36\n",
      "38\n",
      "40\n",
      "42\n",
      "44\n",
      "46\n",
      "48\n",
      "50\n",
      "52\n",
      "54\n",
      "56\n",
      "58\n",
      "60\n",
      "62\n",
      "64\n",
      "66\n",
      "68\n",
      "70\n",
      "72\n",
      "74\n",
      "76\n",
      "78\n",
      "80\n",
      "82\n",
      "84\n",
      "86\n",
      "88\n",
      "90\n",
      "92\n",
      "94\n",
      "96\n",
      "98\n",
      "100\n",
      "you are out of the while loop!\n"
     ]
    }
   ],
   "source": [
    "# Your goal is to get out of the while loop!\n",
    "# Replace ? with the correct answer\n",
    "\n",
    "#Options\n",
    "# +\n",
    "# -\n",
    "# *\n",
    "# /\n",
    "\n",
    "total = 0\n",
    "\n",
    "while total < 100:\n",
    "    total +=2\n",
    "    print(total)\n",
    "\n",
    "print('you are out of the while loop!')"
   ]
  },
  {
   "cell_type": "code",
   "execution_count": 4,
   "id": "eb0adb54",
   "metadata": {},
   "outputs": [
    {
     "name": "stdout",
     "output_type": "stream",
     "text": [
      "1\n",
      "2\n",
      "3\n",
      "you are out of the while loop!\n"
     ]
    }
   ],
   "source": [
    "#Change the while loop so it only repeat 10 times!\n",
    "#ONLY change the ?\n",
    "\n",
    "#Options\n",
    "# +=\n",
    "# -=\n",
    "# /=\n",
    "# *=\n",
    "\n",
    "times = 1\n",
    "counter = 0\n",
    "\n",
    "while times < 100:\n",
    "    times *= 5 #Change times so it will reach 100 or greater\n",
    "    counter += 1\n",
    "    print(counter)\n",
    "    \n",
    "print('you are out of the while loop!')    "
   ]
  },
  {
   "cell_type": "code",
   "execution_count": 6,
   "id": "96796094",
   "metadata": {},
   "outputs": [
    {
     "name": "stdout",
     "output_type": "stream",
     "text": [
      "1\n",
      "2\n",
      "3\n",
      "you are out of the while loop!\n"
     ]
    }
   ],
   "source": [
    "#Change the while loop so it only repeat 10 times!\n",
    "#ONLY change the ?\n",
    "\n",
    "#Options\n",
    "# +=\n",
    "# -=\n",
    "# /=\n",
    "# *=\n",
    "\n",
    "times = 100\n",
    "counter = 0\n",
    "\n",
    "while times > 1:\n",
    "    times /= 5 #Change times so it will reach 1 or lesser\n",
    "    counter += 1\n",
    "    print(counter)\n",
    "    \n",
    "print('you are out of the while loop!')    "
   ]
  },
  {
   "cell_type": "code",
   "execution_count": 2,
   "id": "d798c9a0",
   "metadata": {},
   "outputs": [
    {
     "name": "stdout",
     "output_type": "stream",
     "text": [
      "1\n",
      "2\n",
      "you are out of the while loop!\n"
     ]
    }
   ],
   "source": [
    "#Change the while loop so it only repeat 10 times!\n",
    "#ONLY change the ?\n",
    "\n",
    "#Options\n",
    "# +=\n",
    "# -=\n",
    "# /=\n",
    "# *=\n",
    "\n",
    "times = 1\n",
    "counter = 0\n",
    "\n",
    "while times < 200:\n",
    "    times *= 20 #Change times so it will reach 200 or larger\n",
    "    counter += 1\n",
    "    print(counter)\n",
    "    \n",
    "print('you are out of the while loop!')    "
   ]
  },
  {
   "cell_type": "code",
   "execution_count": 3,
   "id": "56dcb54a",
   "metadata": {},
   "outputs": [
    {
     "name": "stdout",
     "output_type": "stream",
     "text": [
      "20 10.0\n",
      "400 0.5\n",
      "you are out of the while loop!\n"
     ]
    }
   ],
   "source": [
    "#ONLY change ? to get out of the while loop\n",
    "\n",
    "#Options\n",
    "# +=\n",
    "# -=\n",
    "# /=\n",
    "# *=\n",
    "\n",
    "x = 1\n",
    "y = 200\n",
    "\n",
    "while x < 200 and y > 1:\n",
    "    x *= 20 #Change x so it will reach 200 or larger\n",
    "    y /= 20 #Change y so it will reach 1 or lower\n",
    "    print(x,y)\n",
    "    \n",
    "print('you are out of the while loop!')    "
   ]
  },
  {
   "cell_type": "code",
   "execution_count": null,
   "id": "20488151",
   "metadata": {},
   "outputs": [],
   "source": []
  }
 ],
 "metadata": {
  "kernelspec": {
   "display_name": "Python 3 (ipykernel)",
   "language": "python",
   "name": "python3"
  },
  "language_info": {
   "codemirror_mode": {
    "name": "ipython",
    "version": 3
   },
   "file_extension": ".py",
   "mimetype": "text/x-python",
   "name": "python",
   "nbconvert_exporter": "python",
   "pygments_lexer": "ipython3",
   "version": "3.9.12"
  }
 },
 "nbformat": 4,
 "nbformat_minor": 5
}
