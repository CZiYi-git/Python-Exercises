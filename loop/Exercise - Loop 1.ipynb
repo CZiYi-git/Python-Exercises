{
 "cells": [
  {
   "cell_type": "code",
   "execution_count": 1,
   "id": "2e075657",
   "metadata": {},
   "outputs": [
    {
     "name": "stdout",
     "output_type": "stream",
     "text": [
      "3\n",
      "6\n",
      "9\n",
      "12\n",
      "15\n",
      "18\n",
      "21\n",
      "24\n",
      "27\n",
      "30\n",
      "33\n",
      "36\n",
      "39\n",
      "42\n",
      "45\n",
      "48\n",
      "51\n",
      "54\n",
      "57\n",
      "60\n",
      "63\n",
      "66\n",
      "69\n",
      "72\n",
      "75\n",
      "78\n",
      "81\n",
      "84\n",
      "87\n",
      "90\n",
      "93\n",
      "96\n",
      "99\n",
      "102\n",
      "105\n",
      "108\n",
      "111\n",
      "114\n",
      "117\n",
      "120\n",
      "123\n",
      "126\n",
      "129\n",
      "132\n",
      "135\n",
      "138\n",
      "141\n",
      "144\n",
      "147\n",
      "150\n",
      "153\n",
      "156\n",
      "159\n",
      "162\n",
      "165\n",
      "168\n",
      "171\n",
      "174\n",
      "177\n",
      "180\n",
      "183\n",
      "186\n",
      "189\n",
      "192\n",
      "195\n",
      "198\n",
      "201\n",
      "you are out of the while loop!\n"
     ]
    }
   ],
   "source": [
    "# Your goal is to get out of the while loop!\n",
    "# Replace ? with the correct answer\n",
    "\n",
    "#Options\n",
    "# +=\n",
    "# -=\n",
    "# /=\n",
    "# *=\n",
    "\n",
    "total = 0\n",
    "\n",
    "while total < 200:\n",
    "    total += 3\n",
    "    print(total)\n",
    "\n",
    "print('you are out of the while loop!')"
   ]
  },
  {
   "cell_type": "code",
   "execution_count": 2,
   "id": "57f466bf",
   "metadata": {},
   "outputs": [
    {
     "name": "stdout",
     "output_type": "stream",
     "text": [
      "420\n",
      "True\n",
      "you are out of the while loop!\n"
     ]
    }
   ],
   "source": [
    "# Your goal is to get out of the while loop!\n",
    "# Run the codes and put the correct answer in the input!\n",
    "\n",
    "ans = 420\n",
    "question=0\n",
    "\n",
    "while question != ans:\n",
    "    question += int(input())\n",
    "    print(question==ans)\n",
    "\n",
    "print('you are out of the while loop!')"
   ]
  },
  {
   "cell_type": "code",
   "execution_count": 1,
   "id": "96796094",
   "metadata": {},
   "outputs": [
    {
     "name": "stdout",
     "output_type": "stream",
     "text": [
      "1\n",
      "2\n",
      "3\n",
      "4\n",
      "5\n",
      "6\n",
      "7\n",
      "8\n",
      "9\n",
      "10\n",
      "you are out of the while loop!\n"
     ]
    }
   ],
   "source": [
    "#Change the while loop so it only repeat 10 times!\n",
    "#ONLY change the ?\n",
    "\n",
    "times = 200\n",
    "counter = 0\n",
    "\n",
    "while times > 0:\n",
    "    times -= 20\n",
    "    counter += 1\n",
    "    print(counter)\n",
    "    \n",
    "print('you are out of the while loop!')    "
   ]
  },
  {
   "cell_type": "code",
   "execution_count": 1,
   "id": "d798c9a0",
   "metadata": {},
   "outputs": [
    {
     "name": "stdout",
     "output_type": "stream",
     "text": [
      "1\n",
      "2\n",
      "3\n",
      "4\n",
      "5\n",
      "6\n",
      "7\n",
      "8\n",
      "9\n",
      "10\n",
      "you are out of the while loop!\n"
     ]
    }
   ],
   "source": [
    "#Change the while loop so it only repeat 10 times!\n",
    "#ONLY change the ?\n",
    "\n",
    "times = 0\n",
    "counter = 0\n",
    "\n",
    "while times < 200:\n",
    "    times +=20\n",
    "    counter += 1\n",
    "    print(counter)\n",
    "    \n",
    "print('you are out of the while loop!')    "
   ]
  },
  {
   "cell_type": "code",
   "execution_count": 5,
   "id": "56dcb54a",
   "metadata": {},
   "outputs": [
    {
     "name": "stdout",
     "output_type": "stream",
     "text": [
      "you are out of the while loop!\n"
     ]
    }
   ],
   "source": [
    "#ONLY change ? to get out of the while loop\n",
    "\n",
    "#Options\n",
    "# +=\n",
    "# -=\n",
    "# /=\n",
    "# *=\n",
    "\n",
    "x = 200\n",
    "y = 0\n",
    "\n",
    "while x < 200 and y > 200:\n",
    "    x -= 20\n",
    "    y += 20\n",
    "    print(x,y)\n",
    "    \n",
    "print('you are out of the while loop!')    "
   ]
  },
  {
   "cell_type": "code",
   "execution_count": 3,
   "id": "3b8df811",
   "metadata": {},
   "outputs": [
    {
     "name": "stdout",
     "output_type": "stream",
     "text": [
      "Write something in the listur gay\n",
      "You are out of the loop!\n"
     ]
    }
   ],
   "source": [
    "# Your goal is to get out of the while loop!\n",
    "# Run the codes and put the correct answer in the input!\n",
    "\n",
    "acceptableAns = ['hello','world','i love thor', 'iron man rox','hi mom','ur gay']\n",
    "ans = ''\n",
    "\n",
    "while ans not in acceptableAns:\n",
    "    ans = input('Write something in the list').rstrip()\n",
    "    \n",
    "print('You are out of the loop!')\n"
   ]
  },
  {
   "cell_type": "code",
   "execution_count": 4,
   "id": "6184c85c",
   "metadata": {},
   "outputs": [
    {
     "name": "stdout",
     "output_type": "stream",
     "text": [
      "11\n",
      "Higher Abit\n",
      "2\n",
      "Higher Normal\n",
      "3\n",
      "Higher Normal\n",
      "4\n",
      "Higher Normal\n",
      "5\n",
      "Higher Normal\n",
      "6\n",
      "Higher Normal\n",
      "7\n",
      "Higher Normal\n",
      "8\n",
      "Higher Abit\n",
      "9\n",
      "Higher Abit\n",
      "243\n",
      "Lesser A LOT\n",
      "234\n",
      "Lesser A LOT\n",
      "23\n",
      "Lesser TINY BIT\n",
      "2\n",
      "Higher Normal\n",
      "3\n",
      "Higher Normal\n",
      "20\n",
      "Lesser TINY BIT\n",
      "18\n",
      "Correct!\n",
      "you are out of the while loop!\n"
     ]
    }
   ],
   "source": [
    "#For your own amusement\n",
    "#Guessing game\n",
    "\n",
    "import random\n",
    "\n",
    "ans = random.randint(0,100)\n",
    "question = 0\n",
    "\n",
    "while question != ans:\n",
    "    question = 0\n",
    "    question += int(input().rstrip())\n",
    "    \n",
    "    diff = abs(question - ans)\n",
    "    \n",
    "    if question < ans:\n",
    "        if diff > 30:\n",
    "            print('Higher A LOT')\n",
    "        elif diff > 10:\n",
    "            print('Higher Normal')\n",
    "        elif diff > 5:\n",
    "            print('Higher Abit')\n",
    "        elif diff >= 1:\n",
    "            print('Higher TINY BIT')\n",
    "            \n",
    "    elif question > ans:\n",
    "        if diff > 30:\n",
    "            print('Lesser A LOT')\n",
    "        elif diff > 10:\n",
    "            print('Lesser Normal')\n",
    "        elif diff > 5:\n",
    "            print('Lesser Abit')\n",
    "        elif diff >= 1:\n",
    "            print('Lesser TINY BIT')\n",
    "    else:\n",
    "        print(\"Correct!\")\n",
    "        \n",
    "            \n",
    "\n",
    "print('you are out of the while loop!')"
   ]
  },
  {
   "cell_type": "code",
   "execution_count": null,
   "id": "20488151",
   "metadata": {},
   "outputs": [],
   "source": []
  }
 ],
 "metadata": {
  "kernelspec": {
   "display_name": "Python 3 (ipykernel)",
   "language": "python",
   "name": "python3"
  },
  "language_info": {
   "codemirror_mode": {
    "name": "ipython",
    "version": 3
   },
   "file_extension": ".py",
   "mimetype": "text/x-python",
   "name": "python",
   "nbconvert_exporter": "python",
   "pygments_lexer": "ipython3",
   "version": "3.9.12"
  }
 },
 "nbformat": 4,
 "nbformat_minor": 5
}
