{
 "cells": [
  {
   "cell_type": "code",
   "execution_count": 39,
   "id": "ca17c4b0",
   "metadata": {},
   "outputs": [],
   "source": [
    "#This exercise requires helpers.py\n",
    "\n",
    "from helpers import txt_to_hashlist, check_value\n",
    "\n",
    "answer_path = 'loop6ans.txt'\n",
    "answers = txt_to_hashlist(answer_path)\n",
    "salt = '15/2/2023'"
   ]
  },
  {
   "cell_type": "code",
   "execution_count": 4,
   "id": "befeb85f",
   "metadata": {},
   "outputs": [
    {
     "name": "stdout",
     "output_type": "stream",
     "text": [
      "Ans: b\n",
      "Correct!\n"
     ]
    }
   ],
   "source": [
    "# 1. What is a loop in Python?\n",
    "# a. A way to store data\n",
    "# b. A way to repeat a set of instructions\n",
    "# c. A way to stop a program\n",
    "\n",
    "if check_value(input('Ans: '),answers[0],salt):\n",
    "    print('Correct!')\n",
    "else:\n",
    "    print('Wrong! Try again!')"
   ]
  },
  {
   "cell_type": "code",
   "execution_count": 7,
   "id": "2e20ac1a",
   "metadata": {},
   "outputs": [
    {
     "name": "stdout",
     "output_type": "stream",
     "text": [
      "Ans: b\n",
      "Correct!\n"
     ]
    }
   ],
   "source": [
    "# 2. What is the purpose of a loop in programming?\n",
    "# a. To only execute a set of instructions once\n",
    "# b. To repeat a set of instructions multiple times\n",
    "# c. To stop a program\n",
    "\n",
    "if check_value(input('Ans: '),answers[1],salt):\n",
    "    print('Correct!')\n",
    "else:\n",
    "    print('Wrong! Try again!')"
   ]
  },
  {
   "cell_type": "code",
   "execution_count": 8,
   "id": "27f428e6",
   "metadata": {},
   "outputs": [
    {
     "name": "stdout",
     "output_type": "stream",
     "text": [
      "Ans: b\n",
      "Correct!\n"
     ]
    }
   ],
   "source": [
    "# 3. Which keyword is used to create a loop in Python?\n",
    "# a. loop\n",
    "# b. for\n",
    "# c. while\n",
    "\n",
    "if check_value(input('Ans: '),answers[2],salt):\n",
    "    print('Correct!')\n",
    "else:\n",
    "    print('Wrong! Try again!')"
   ]
  },
  {
   "cell_type": "code",
   "execution_count": 10,
   "id": "cc63f637",
   "metadata": {},
   "outputs": [
    {
     "name": "stdout",
     "output_type": "stream",
     "text": [
      "Ans: a\n",
      "Correct!\n"
     ]
    }
   ],
   "source": [
    "# 4. What is the syntax for a for loop in Python?\n",
    "# a. for i in range(10):\n",
    "# b. while i < 10:\n",
    "# c. if i == 10:\n",
    "\n",
    "if check_value(input('Ans: '),answers[3],salt):\n",
    "    print('Correct!')\n",
    "else:\n",
    "    print('Wrong! Try again!')"
   ]
  },
  {
   "cell_type": "code",
   "execution_count": 13,
   "id": "fe6d2bb2",
   "metadata": {},
   "outputs": [
    {
     "name": "stdout",
     "output_type": "stream",
     "text": [
      "Ans: b\n",
      "Correct!\n"
     ]
    }
   ],
   "source": [
    "# 5. What is the syntax for a while loop in Python?\n",
    "# a. for i in range(10):\n",
    "# b. while i < 10:\n",
    "# c. if i == 10:\n",
    "\n",
    "if check_value(input('Ans: '),answers[4],salt):\n",
    "    print('Correct!')\n",
    "else:\n",
    "    print('Wrong! Try again!')"
   ]
  },
  {
   "cell_type": "code",
   "execution_count": 14,
   "id": "a561f7a4",
   "metadata": {},
   "outputs": [
    {
     "name": "stdout",
     "output_type": "stream",
     "text": [
      "Ans: b\n",
      "Correct!\n"
     ]
    }
   ],
   "source": [
    "# 6. How many times will a for loop with range(5) run?\n",
    "# a. 1\n",
    "# b. 5\n",
    "# c. 10\n",
    "\n",
    "if check_value(input('Ans: '),answers[5],salt):\n",
    "    print('Correct!')\n",
    "else:\n",
    "    print('Wrong! Try again!')"
   ]
  },
  {
   "cell_type": "code",
   "execution_count": 15,
   "id": "0d68fd8c",
   "metadata": {},
   "outputs": [
    {
     "name": "stdout",
     "output_type": "stream",
     "text": [
      "Ans: b\n",
      "Correct!\n"
     ]
    }
   ],
   "source": [
    "# 7. How many times will a while loop with i < 5 run if i is initially set to 0 and i += 1?\n",
    "# a. 1\n",
    "# b. 5\n",
    "# c. Infinite\n",
    "\n",
    "if check_value(input('Ans: '),answers[6],salt):\n",
    "    print('Correct!')\n",
    "else:\n",
    "    print('Wrong! Try again!')"
   ]
  },
  {
   "cell_type": "code",
   "execution_count": 16,
   "id": "110728d4",
   "metadata": {},
   "outputs": [
    {
     "name": "stdout",
     "output_type": "stream",
     "text": [
      "Ans: b\n",
      "Correct!\n"
     ]
    }
   ],
   "source": [
    "# 8. What is the purpose of the \"continue\" keyword in a loop?\n",
    "# a. To exit the loop\n",
    "# b. To skip to the next iteration of the loop\n",
    "# c. To print a message to the console\n",
    "\n",
    "if check_value(input('Ans: '),answers[7],salt):\n",
    "    print('Correct!')\n",
    "else:\n",
    "    print('Wrong! Try again!')"
   ]
  },
  {
   "cell_type": "code",
   "execution_count": 18,
   "id": "9289ca40",
   "metadata": {},
   "outputs": [
    {
     "name": "stdout",
     "output_type": "stream",
     "text": [
      "Ans: a\n",
      "Correct!\n"
     ]
    }
   ],
   "source": [
    "# 9. What is the purpose of the \"break\" keyword in a loop?\n",
    "# a. To exit the loop\n",
    "# b. To skip to the next iteration of the loop\n",
    "# c. To print a message to the console\n",
    "\n",
    "if check_value(input('Ans: '),answers[8],salt):\n",
    "    print('Correct!')\n",
    "else:\n",
    "    print('Wrong! Try again!')"
   ]
  },
  {
   "cell_type": "code",
   "execution_count": 20,
   "id": "95d97303",
   "metadata": {},
   "outputs": [
    {
     "name": "stdout",
     "output_type": "stream",
     "text": [
      "Ans: a\n",
      "Correct!\n"
     ]
    }
   ],
   "source": [
    "# 10. What is the output of the following loop: \n",
    "\n",
    "# for i in range(3): \n",
    "#     print(i)?\n",
    "\n",
    "# a. 0 1 2\n",
    "# b. 1 2 3\n",
    "# c. 3 2 1\n",
    "\n",
    "if check_value(input('Ans: '),answers[9],salt):\n",
    "    print('Correct!')\n",
    "else:\n",
    "    print('Wrong! Try again!')"
   ]
  },
  {
   "cell_type": "code",
   "execution_count": 21,
   "id": "e4b43fd1",
   "metadata": {},
   "outputs": [
    {
     "name": "stdout",
     "output_type": "stream",
     "text": [
      "Ans: a\n",
      "Correct!\n"
     ]
    }
   ],
   "source": [
    "# 11. What is the output of the following loop: \n",
    "\n",
    "# for i in range(1, 4): \n",
    "#     print(i)?\n",
    "    \n",
    "# a. 1 2 3\n",
    "# b. 0 1 2\n",
    "# c. 3 2 1\n",
    "\n",
    "if check_value(input('Ans: '),answers[10],salt):\n",
    "    print('Correct!')\n",
    "else:\n",
    "    print('Wrong! Try again!')"
   ]
  },
  {
   "cell_type": "code",
   "execution_count": 22,
   "id": "edee6c8d",
   "metadata": {},
   "outputs": [
    {
     "name": "stdout",
     "output_type": "stream",
     "text": [
      "Ans: a\n",
      "Correct!\n"
     ]
    }
   ],
   "source": [
    "# 12. What is the output of the following loop: \n",
    "\n",
    "# for i in range(0, 10, 2): \n",
    "#     print(i)\n",
    "    \n",
    "# a. 0 2 4 6 8\n",
    "# b. 1 3 5 7 9\n",
    "# c. 10 9 8 7 6\n",
    "\n",
    "if check_value(input('Ans: '),answers[11],salt):\n",
    "    print('Correct!')\n",
    "else:\n",
    "    print('Wrong! Try again!')"
   ]
  },
  {
   "cell_type": "code",
   "execution_count": 24,
   "id": "b935bbe8",
   "metadata": {},
   "outputs": [
    {
     "name": "stdout",
     "output_type": "stream",
     "text": [
      "Ans: b\n",
      "Correct!\n"
     ]
    }
   ],
   "source": [
    "# 13. What is the output of the following loop: \n",
    "\n",
    "# i = 0 \n",
    "# while i < 3: \n",
    "#     print(i) i += 1\n",
    "    \n",
    "# a. 0 1 2\n",
    "# b. 1 2 3\n",
    "# c. 3 2 1\n",
    "\n",
    "if check_value(input('Ans: '),answers[12],salt):\n",
    "    print('Correct!')\n",
    "else:\n",
    "    print('Wrong! Try again!')"
   ]
  },
  {
   "cell_type": "code",
   "execution_count": 26,
   "id": "a90010dd",
   "metadata": {},
   "outputs": [
    {
     "name": "stdout",
     "output_type": "stream",
     "text": [
      "Ans: a\n",
      "Correct!\n"
     ]
    }
   ],
   "source": [
    "# 14. What is the output of the following loop: \n",
    "\n",
    "# i = 5 \n",
    "# while i > 0: \n",
    "#     print(i) \n",
    "#     i -= 1\n",
    "    \n",
    "# a. 5 4 3 2 1\n",
    "# b. 1 2 3 4 5\n",
    "# c. 0 1 2 3 4\n",
    "\n",
    "if check_value(input('Ans: '),answers[13],salt):\n",
    "    print('Correct!')\n",
    "else:\n",
    "    print('Wrong! Try again!')"
   ]
  },
  {
   "cell_type": "code",
   "execution_count": 29,
   "id": "2a1ab745",
   "metadata": {},
   "outputs": [
    {
     "name": "stdout",
     "output_type": "stream",
     "text": [
      "Ans: c\n",
      "Correct!\n"
     ]
    }
   ],
   "source": [
    "# 15. Which keyword is used to exit a loop in Python?\n",
    "# a. exit\n",
    "# b. continue\n",
    "# c. break\n",
    "\n",
    "if check_value(input('Ans: '),answers[14],salt):\n",
    "    print('Correct!')\n",
    "else:\n",
    "    print('Wrong! Try again!')"
   ]
  },
  {
   "cell_type": "code",
   "execution_count": 32,
   "id": "a139e904",
   "metadata": {},
   "outputs": [
    {
     "name": "stdout",
     "output_type": "stream",
     "text": [
      "Ans: b\n",
      "Correct!\n"
     ]
    }
   ],
   "source": [
    "\n",
    "# 16. What is an infinite loop?\n",
    "# a. A loop that runs only once\n",
    "# b. A loop that runs forever\n",
    "# c. A loop that skips iterations\n",
    "\n",
    "if check_value(input('Ans: '),answers[15],salt):\n",
    "    print('Correct!')\n",
    "else:\n",
    "    print('Wrong! Try again!')"
   ]
  },
  {
   "cell_type": "code",
   "execution_count": 41,
   "id": "2c2f9e82",
   "metadata": {},
   "outputs": [
    {
     "name": "stdout",
     "output_type": "stream",
     "text": [
      "Ans: c\n",
      "Correct!\n"
     ]
    }
   ],
   "source": [
    "# 17. How can you prevent an infinite loop?\n",
    "# a. Use the \"break\" keyword\n",
    "# b. Use the \"continue\" keyword\n",
    "# c. Make sure the loop condition will eventually become false\n",
    "\n",
    "if check_value(input('Ans: '),answers[16],salt):\n",
    "    print('Correct!')\n",
    "else:\n",
    "    print('Wrong! Try again!')"
   ]
  },
  {
   "cell_type": "code",
   "execution_count": 44,
   "id": "6765926b",
   "metadata": {},
   "outputs": [
    {
     "name": "stdout",
     "output_type": "stream",
     "text": [
      "Ans: a\n",
      "Correct!\n"
     ]
    }
   ],
   "source": [
    "### 18. What is a nested loop?\n",
    "# a. A loop that runs inside another loop\n",
    "# b. A loop that runs only once\n",
    "# c. A loop that runs forever\n",
    "\n",
    "if check_value(input('Ans: '),answers[17],salt):\n",
    "    print('Correct!')\n",
    "else:\n",
    "    print('Wrong! Try again!')"
   ]
  },
  {
   "cell_type": "code",
   "execution_count": 45,
   "id": "547e4051",
   "metadata": {},
   "outputs": [
    {
     "name": "stdout",
     "output_type": "stream",
     "text": [
      "Ans: b\n",
      "Correct!\n"
     ]
    }
   ],
   "source": [
    "# 19. Which loop executes a set of instructions for a fixed number of times?\n",
    "# a. While loop\n",
    "# b. For loop\n",
    "# c. Nested loop\n",
    "\n",
    "if check_value(input('Ans: '),answers[18],salt):\n",
    "    print('Correct!')\n",
    "else:\n",
    "    print('Wrong! Try again!')"
   ]
  },
  {
   "cell_type": "code",
   "execution_count": 46,
   "id": "686255c5",
   "metadata": {},
   "outputs": [
    {
     "name": "stdout",
     "output_type": "stream",
     "text": [
      "Ans: a\n",
      "Correct!\n"
     ]
    }
   ],
   "source": [
    "# 20. What is the output of the following code?\n",
    "\n",
    "# for i in range(1, 5):\n",
    "#     print(i)\n",
    "\n",
    "# a. 1 2 3 4\n",
    "# b. 0 1 2 3\n",
    "# c. 1 3 5 7\n",
    "\n",
    "if check_value(input('Ans: '),answers[19],salt):\n",
    "    print('Correct!')\n",
    "else:\n",
    "    print('Wrong! Try again!')"
   ]
  },
  {
   "cell_type": "code",
   "execution_count": null,
   "id": "e1f55a2c",
   "metadata": {},
   "outputs": [],
   "source": []
  }
 ],
 "metadata": {
  "kernelspec": {
   "display_name": "Python 3 (ipykernel)",
   "language": "python",
   "name": "python3"
  },
  "language_info": {
   "codemirror_mode": {
    "name": "ipython",
    "version": 3
   },
   "file_extension": ".py",
   "mimetype": "text/x-python",
   "name": "python",
   "nbconvert_exporter": "python",
   "pygments_lexer": "ipython3",
   "version": "3.10.8"
  }
 },
 "nbformat": 4,
 "nbformat_minor": 5
}
