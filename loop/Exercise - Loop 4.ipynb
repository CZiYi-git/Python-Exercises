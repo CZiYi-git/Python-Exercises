{
 "cells": [
  {
   "cell_type": "code",
   "execution_count": 1,
   "id": "2e075657",
   "metadata": {},
   "outputs": [
    {
     "name": "stdout",
     "output_type": "stream",
     "text": [
      "x = 1, y = 10.0\n",
      "x = 2, y = 10.0\n",
      "x = 3, y = 10.0\n",
      "x = 4, y = 10.0\n",
      "x = 5, y = 10.0\n",
      "x = 6, y = 10.0\n",
      "x = 7, y = 10.0\n",
      "x = 8, y = 10.0\n",
      "x = 9, y = 10.0\n",
      "x = 10, y = 10.0\n",
      "x = 10, y = 10.0. You are out of the loop!\n"
     ]
    }
   ],
   "source": [
    "# Your goal is to get out of the while loop!\n",
    "# Replace ? with the correct answer\n",
    "\n",
    "#Options\n",
    "# +\n",
    "# -\n",
    "# *\n",
    "# /\n",
    "\n",
    "x = 0\n",
    "y= 10\n",
    "\n",
    "while x < 10 and y > 0 : #Repeat if x is smaller than 10 and y is greater than 0\n",
    "    \n",
    "    x += 1\n",
    "    y /= 1\n",
    "    \n",
    "    print(f'x = {str(x)}, y = {str(y)}')\n",
    "\n",
    "print(f'x = {str(x)}, y = {str(y)}. You are out of the loop!')"
   ]
  },
  {
   "cell_type": "code",
   "execution_count": 3,
   "id": "eb0adb54",
   "metadata": {},
   "outputs": [
    {
     "name": "stdout",
     "output_type": "stream",
     "text": [
      "The loop has run 1 times\n",
      "The loop has run 2 times\n",
      "The loop has run 3 times\n",
      "The loop has run 4 times\n",
      "The loop has run 5 times\n",
      "The loop has run 6 times\n",
      "The loop has run 7 times\n",
      "The loop has run 8 times\n",
      "The loop has run 9 times\n",
      "The loop has run 10 times\n",
      "The loop has run 11 times\n",
      "The loop has run 12 times\n",
      "The loop has run 13 times\n",
      "The loop has run 14 times\n",
      "The loop has run 15 times\n",
      "The loop has run 16 times\n",
      "The loop has run 17 times\n",
      "The loop has run 18 times\n",
      "The loop has run 19 times\n",
      "The loop has run 20 times\n",
      "The loop has run 21 times\n",
      "The loop has run 22 times\n",
      "The loop has run 23 times\n",
      "The loop has run 24 times\n",
      "The loop has run 25 times\n",
      "The loop has run 26 times\n",
      "The loop has run 27 times\n",
      "The loop has run 28 times\n",
      "The loop has run 29 times\n",
      "The loop has run 30 times\n",
      "The loop has run 31 times\n",
      "The loop has run 32 times\n",
      "The loop has run 33 times\n",
      "The loop has run 34 times\n",
      "The loop has run 35 times\n",
      "The loop has run 36 times\n",
      "The loop has run 37 times\n",
      "The loop has run 38 times\n",
      "The loop has run 39 times\n",
      "The loop has run 40 times\n",
      "The loop has run 41 times\n",
      "The loop has run 42 times\n",
      "The loop has run 43 times\n",
      "The loop has run 44 times\n",
      "The loop has run 45 times\n",
      "The loop has run 46 times\n",
      "The loop has run 47 times\n",
      "The loop has run 48 times\n",
      "The loop has run 49 times\n",
      "The loop has run 50 times\n",
      "The loop has run 51 times\n",
      "The loop has run 52 times\n",
      "The loop has run 53 times\n",
      "The loop has run 54 times\n",
      "The loop has run 55 times\n",
      "The loop has run 56 times\n",
      "The loop has run 57 times\n",
      "The loop has run 58 times\n",
      "The loop has run 59 times\n",
      "The loop has run 60 times\n",
      "The loop has run 61 times\n",
      "The loop has run 62 times\n",
      "The loop has run 63 times\n",
      "The loop has run 64 times\n",
      "The loop has run 65 times\n",
      "The loop has run 66 times\n",
      "The loop has run 67 times\n",
      "The loop has run 68 times\n",
      "The loop has run 69 times\n",
      "The loop has run 70 times\n",
      "The loop has run 71 times\n",
      "The loop has run 72 times\n",
      "The loop has run 73 times\n",
      "The loop has run 74 times\n",
      "The loop has run 75 times\n",
      "The loop has run 76 times\n",
      "The loop has run 77 times\n",
      "The loop has run 78 times\n",
      "The loop has run 79 times\n",
      "The loop has run 80 times\n",
      "The loop has run 81 times\n",
      "The loop has run 82 times\n",
      "The loop has run 83 times\n",
      "The loop has run 84 times\n",
      "The loop has run 85 times\n",
      "The loop has run 86 times\n",
      "The loop has run 87 times\n",
      "The loop has run 88 times\n",
      "The loop has run 89 times\n",
      "The loop has run 90 times\n",
      "The loop has run 91 times\n",
      "The loop has run 92 times\n",
      "The loop has run 93 times\n",
      "The loop has run 94 times\n",
      "The loop has run 95 times\n",
      "The loop has run 96 times\n",
      "The loop has run 97 times\n",
      "The loop has run 98 times\n",
      "The loop has run 99 times\n",
      "The loop has run 100 times\n",
      "you are out of the while loop!\n"
     ]
    }
   ],
   "source": [
    "#Change the while loop so it repeats EXACTLY 20 times!\n",
    "#ONLY change the ?\n",
    "\n",
    "#Options\n",
    "# +=\n",
    "# -=\n",
    "# /=\n",
    "# *=\n",
    "\n",
    "x = 1\n",
    "counter = 0\n",
    "\n",
    "while counter < 100: #Repeat if x is smaller than 100\n",
    "    \n",
    "    x *= 5 \n",
    "    counter += 1\n",
    "    \n",
    "    \n",
    "    print(f'The loop has run {str(counter)} times')\n",
    "    \n",
    "print('you are out of the while loop!')    "
   ]
  },
  {
   "cell_type": "code",
   "execution_count": 4,
   "id": "96796094",
   "metadata": {},
   "outputs": [
    {
     "name": "stdout",
     "output_type": "stream",
     "text": [
      "The loop has run 1 times\n",
      "The loop has run 2 times\n",
      "The loop has run 3 times\n",
      "you are out of the while loop!\n"
     ]
    }
   ],
   "source": [
    "#Change the while loop so it only repeat 3 times!\n",
    "#ONLY change the ?\n",
    "\n",
    "#Options\n",
    "# +=\n",
    "# -=\n",
    "# /=\n",
    "# *=\n",
    "# //=\n",
    "\n",
    "x = 100\n",
    "counter = 0\n",
    "\n",
    "while x > 0:#Repeat if x is larger than 1\n",
    "    \n",
    "    x //= 5 #Change times so it will reach 1 or lesser\n",
    "    \n",
    "    counter += 1\n",
    "    print(f'The loop has run {str(counter)} times')\n",
    "    \n",
    "print('you are out of the while loop!')    "
   ]
  },
  {
   "cell_type": "code",
   "execution_count": 2,
   "id": "d798c9a0",
   "metadata": {},
   "outputs": [
    {
     "name": "stdout",
     "output_type": "stream",
     "text": [
      "The loop has run 1 times\n",
      "The loop has run 2 times\n",
      "you are out of the while loop!\n"
     ]
    }
   ],
   "source": [
    "#Change the while loop so it only repeat 10 times!\n",
    "#ONLY change the ?\n",
    "\n",
    "#Options\n",
    "# +=\n",
    "# -=\n",
    "# /=\n",
    "# *=\n",
    "\n",
    "times = 1\n",
    "counter = 0\n",
    "\n",
    "while times < 200:\n",
    "    times *= 20 #Change times so it will reach 200 or larger\n",
    "    \n",
    "    counter += 1\n",
    "    print(f'The loop has run {str(counter)} times')\n",
    "    \n",
    "print('you are out of the while loop!')    "
   ]
  },
  {
   "cell_type": "code",
   "execution_count": 1,
   "id": "56dcb54a",
   "metadata": {},
   "outputs": [
    {
     "name": "stdout",
     "output_type": "stream",
     "text": [
      "4 10000\n",
      "16 5000\n",
      "256 2500\n",
      "65536 1250\n",
      "you are out of the while loop!\n"
     ]
    }
   ],
   "source": [
    "#ONLY change ? to get out of the while loop\n",
    "\n",
    "#Options\n",
    "# +=\n",
    "# -=\n",
    "# /=\n",
    "# *=\n",
    "# **=\n",
    "# //=\n",
    "\n",
    "x = 2\n",
    "y = 20000\n",
    "\n",
    "while x < 20000 and y > 0:\n",
    "    \n",
    "    x **= 2 #Change x so it will reach 200 or larger\n",
    "    y //= 2 #Change y so it will reach 1 or lower\n",
    "    \n",
    "    print(x,y)\n",
    "    \n",
    "print('you are out of the while loop!')    "
   ]
  },
  {
   "cell_type": "code",
   "execution_count": 2,
   "id": "20488151",
   "metadata": {},
   "outputs": [
    {
     "name": "stdout",
     "output_type": "stream",
     "text": [
      "Guess a numberd\n"
     ]
    },
    {
     "ename": "ValueError",
     "evalue": "invalid literal for int() with base 10: 'd'",
     "output_type": "error",
     "traceback": [
      "\u001b[1;31m---------------------------------------------------------------------------\u001b[0m",
      "\u001b[1;31mValueError\u001b[0m                                Traceback (most recent call last)",
      "Input \u001b[1;32mIn [2]\u001b[0m, in \u001b[0;36m<cell line: 7>\u001b[1;34m()\u001b[0m\n\u001b[0;32m      4\u001b[0m maximum \u001b[38;5;241m=\u001b[39m \u001b[38;5;241m100\u001b[39m\n\u001b[0;32m      5\u001b[0m ans \u001b[38;5;241m=\u001b[39m random\u001b[38;5;241m.\u001b[39mrandint(minimum, maximum)\n\u001b[1;32m----> 7\u001b[0m question \u001b[38;5;241m=\u001b[39m \u001b[38;5;28;43mint\u001b[39;49m\u001b[43m(\u001b[49m\u001b[38;5;28;43minput\u001b[39;49m\u001b[43m(\u001b[49m\u001b[38;5;124;43m'\u001b[39;49m\u001b[38;5;124;43mGuess a number\u001b[39;49m\u001b[38;5;124;43m'\u001b[39;49m\u001b[43m)\u001b[49m\u001b[43m)\u001b[49m\n\u001b[0;32m      9\u001b[0m \u001b[38;5;28;01mwhile\u001b[39;00m question \u001b[38;5;241m!=\u001b[39m ans:\n\u001b[0;32m     11\u001b[0m     \u001b[38;5;28;01mif\u001b[39;00m question\u001b[38;5;241m>\u001b[39m ans:\u001b[38;5;66;03m# question is bigger than answer\u001b[39;00m\n",
      "\u001b[1;31mValueError\u001b[0m: invalid literal for int() with base 10: 'd'"
     ]
    }
   ],
   "source": [
    "import random\n",
    "\n",
    "minimum = 0\n",
    "maximum = 100\n",
    "ans = random.randint(minimum, maximum)\n",
    "\n",
    "question = int(input('Guess a number'))\n",
    "\n",
    "while question != ans:\n",
    "    \n",
    "    if question> ans:# question is bigger than answer\n",
    "         maximum = question# make maximum the same number as question\n",
    "        \n",
    "    elif question < ans:# question is smaller than answer\n",
    "           minimum = question# make minimum the same number as question\n",
    "    \n",
    "    print(f'The answer is between {str(minimum)} and {str(maximum)}')\n",
    "    question = int(input('Guess another number'))\n",
    "        \n",
    "    \n",
    "print(f'Congradulation you got the answer! {str(ans)}')\n",
    "\n"
   ]
  },
  {
   "cell_type": "code",
   "execution_count": null,
   "id": "6f970531",
   "metadata": {},
   "outputs": [],
   "source": []
  }
 ],
 "metadata": {
  "kernelspec": {
   "display_name": "Python 3 (ipykernel)",
   "language": "python",
   "name": "python3"
  },
  "language_info": {
   "codemirror_mode": {
    "name": "ipython",
    "version": 3
   },
   "file_extension": ".py",
   "mimetype": "text/x-python",
   "name": "python",
   "nbconvert_exporter": "python",
   "pygments_lexer": "ipython3",
   "version": "3.9.12"
  }
 },
 "nbformat": 4,
 "nbformat_minor": 5
}
