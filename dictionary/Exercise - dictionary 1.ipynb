{
 "cells": [
  {
   "cell_type": "code",
   "execution_count": null,
   "id": "5cc7cd02",
   "metadata": {},
   "outputs": [],
   "source": [
    "# To create an empty dictionary, use the _________ notation.\n",
    "\n",
    "my_dict = _________\n",
    "print(my_dict)\n",
    "\n",
    "# a. {} b. [] c. ()"
   ]
  },
  {
   "cell_type": "code",
   "execution_count": null,
   "id": "198e0019",
   "metadata": {},
   "outputs": [],
   "source": [
    "\n",
    "# In a dictionary, a key-value pair is separated by a _________.\n",
    "\n",
    "my_dict = {\"key1\": \"value\" ___ \"key2\": \"value\"}\n",
    "print(my_dict)\n",
    "\n",
    "# a. :\n",
    "# b. ,\n",
    "# c. ;\n"
   ]
  },
  {
   "cell_type": "code",
   "execution_count": null,
   "id": "024ad38a",
   "metadata": {},
   "outputs": [],
   "source": [
    "# To add a new key-value pair to a dictionary, you can use the _________ method.\n",
    "\n",
    "my_dict = {\"key1\": \"value1\"}\n",
    "my_dict._________(\"key2\", \"value2\")\n",
    "print(my_dict)\n",
    "\n",
    "# a. add b. insert c. update\n",
    "\n"
   ]
  },
  {
   "cell_type": "code",
   "execution_count": null,
   "id": "99972e48",
   "metadata": {},
   "outputs": [],
   "source": [
    "# To access the value of a specific key in a dictionary, use the _________ notation.\n",
    "\n",
    "my_dict = {\"key1\": \"value1\", \"key2\": \"value2\"}\n",
    "value = my_dict.__\"key1\"__\n",
    "print(value)\n",
    "\n",
    "# a. [] b. () c. {}\n"
   ]
  },
  {
   "cell_type": "code",
   "execution_count": null,
   "id": "b11b6bf3",
   "metadata": {},
   "outputs": [],
   "source": [
    "# The _________ method returns a list of all the keys in a dictionary.\n",
    "\n",
    "my_dict = {\"key1\": \"value1\", \"key2\": \"value2\"}\n",
    "keys_list = my_dict._________()\n",
    "print(keys_list)\n",
    "\n",
    "# a. get_keys b. keys c. values\n",
    "\n"
   ]
  },
  {
   "cell_type": "code",
   "execution_count": null,
   "id": "3f44fb89",
   "metadata": {},
   "outputs": [],
   "source": [
    "# The _________ method returns a list of all the values in a dictionary.\n",
    "\n",
    "my_dict = {\"key1\": \"value1\", \"key2\": \"value2\"}\n",
    "values_list = my_dict._________()\n",
    "print(values_list)\n",
    "\n",
    "# a. get_values b. values c. keys\n",
    "\n"
   ]
  },
  {
   "cell_type": "code",
   "execution_count": null,
   "id": "ce4ff2d8",
   "metadata": {},
   "outputs": [],
   "source": [
    "# The _________ method removes the key-value pair for a specific key in a dictionary.\n",
    "\n",
    "my_dict = {\"key1\": \"value1\", \"key2\": \"value2\"}\n",
    "my_dict._________(\"key1\")\n",
    "print(my_dict)\n",
    "\n",
    "\n",
    "# a. remove b. delete c. pop\n",
    "\n"
   ]
  },
  {
   "cell_type": "code",
   "execution_count": null,
   "id": "1346232d",
   "metadata": {},
   "outputs": [],
   "source": [
    "# The _________ keyword is used to check if a key is in a dictionary.\n",
    "\n",
    "my_dict = {\"key1\": \"value1\", \"key2\": \"value2\"}\n",
    "if \"key1\" _________ my_dict:\n",
    "    print(\"Key exists!\")\n",
    "    \n",
    "# a. in b. not in c. exists\n"
   ]
  },
  {
   "cell_type": "code",
   "execution_count": null,
   "id": "a618dab5",
   "metadata": {},
   "outputs": [],
   "source": [
    "# The _________ method returns the number of key-value pairs in a dictionary.\n",
    "\n",
    "my_dict = {\"key1\": \"value1\", \"key2\": \"value2\"}\n",
    "num_pairs = my_dict._________()\n",
    "print(num_pairs)\n",
    "\n",
    "# a. get_size b. size c. len"
   ]
  },
  {
   "cell_type": "code",
   "execution_count": null,
   "id": "dbcf5f58",
   "metadata": {},
   "outputs": [],
   "source": [
    "# The _________ method removes all key-value pairs in a dictionary.\n",
    "\n",
    "my_dict = {\"key1\": \"value1\", \"key2\": \"value2\"}\n",
    "my_dict._________()\n",
    "print(my_dict)\n",
    "\n",
    "# a. clear b. delete_all c. remove_all"
   ]
  },
  {
   "cell_type": "code",
   "execution_count": null,
   "id": "19c4f9a3",
   "metadata": {},
   "outputs": [],
   "source": [
    "# Fill in the code to create a dictionary called \"my_dict\" with the key-value pairs \"name\": \"John\" and \"age\": 25:\n",
    "my_dict = {___: \"John\", ___: 25}\n",
    "print(my_dict)"
   ]
  },
  {
   "cell_type": "code",
   "execution_count": null,
   "id": "5ec0dd71",
   "metadata": {},
   "outputs": [],
   "source": [
    "# Fill in the code to add a key-value pair \"city\": \"New York\" to the dictionary \"my_dict\":\n",
    "my_dict[___] = \"New York\"\n",
    "print(my_dict)"
   ]
  },
  {
   "cell_type": "code",
   "execution_count": null,
   "id": "cb67f448",
   "metadata": {},
   "outputs": [],
   "source": [
    "# Fill in the code to access the value of the key \"age\" in the dictionary \"my_dict\":\n",
    "my_dict[___]\n",
    "print(my_dict)\n"
   ]
  },
  {
   "cell_type": "code",
   "execution_count": null,
   "id": "b0fe337f",
   "metadata": {},
   "outputs": [],
   "source": [
    "# Fill in the code to check if the key \"name\" exists in the dictionary \"my_dict\":\n",
    "print(\"name\" __ my_dict)"
   ]
  },
  {
   "cell_type": "code",
   "execution_count": null,
   "id": "7d6747c1",
   "metadata": {},
   "outputs": [],
   "source": [
    "# Fill in the code to remove the key-value pair with key \"city\" from the dictionary \"my_dict\":\n",
    "my_dict.___(\"city\")\n",
    "print(my_dict)\n",
    "\n",
    "# Hint: remove, replace, pop\n"
   ]
  },
  {
   "cell_type": "code",
   "execution_count": null,
   "id": "0eb386cd",
   "metadata": {},
   "outputs": [],
   "source": [
    "# Fill in the code to add a key-value pair to a dictionary:\n",
    "my_dict = {\"apple\": 1, \"banana\": 2}\n",
    "my_dict[___] = 3\n",
    "print(my_dict)\n",
    "\n",
    "# Expected output: {'apple': 1, 'banana': 2, 'orange': 3}"
   ]
  },
  {
   "cell_type": "code",
   "execution_count": null,
   "id": "bfa1487a",
   "metadata": {},
   "outputs": [],
   "source": [
    "# Fill in the code to access the value associated with a key in a dictionary:\n",
    "my_dict = {\"apple\": 1, \"banana\": 2, \"orange\": 3}\n",
    "my_value = my_dict[____]\n",
    "print(my_value)\n",
    "\n",
    "# Expected output: 2"
   ]
  },
  {
   "cell_type": "code",
   "execution_count": null,
   "id": "ae9fa170",
   "metadata": {},
   "outputs": [],
   "source": [
    "# Fill in the code to remove a key-value pair from a dictionary:\n",
    "my_dict = {\"apple\": 1, \"banana\": 2, \"orange\": 3}\n",
    "del my_dict[\"banana\"]\n",
    "print(my_dict)"
   ]
  },
  {
   "cell_type": "code",
   "execution_count": null,
   "id": "238d1f4b",
   "metadata": {},
   "outputs": [],
   "source": [
    "# Fill in the code to update the value of the key \"age\" to 30 in the dictionary \"my_dict\":\n",
    "my_dict[\"age\"] = 30\n",
    "print(my_dict)"
   ]
  }
 ],
 "metadata": {
  "kernelspec": {
   "display_name": "Python 3",
   "language": "python",
   "name": "python3"
  },
  "language_info": {
   "codemirror_mode": {
    "name": "ipython",
    "version": 3
   },
   "file_extension": ".py",
   "mimetype": "text/x-python",
   "name": "python",
   "nbconvert_exporter": "python",
   "pygments_lexer": "ipython3",
   "version": "3.10.7"
  },
  "vscode": {
   "interpreter": {
    "hash": "9cf1319f6cc31bff9645e44198dd02698af19f7b9bd096b68ef0c4d62d5f5887"
   }
  }
 },
 "nbformat": 4,
 "nbformat_minor": 5
}
