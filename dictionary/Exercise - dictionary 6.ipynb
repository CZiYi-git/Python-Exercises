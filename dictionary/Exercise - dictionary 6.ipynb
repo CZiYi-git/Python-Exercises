{
 "cells": [
  {
   "cell_type": "code",
   "execution_count": 2,
   "metadata": {},
   "outputs": [
    {
     "name": "stdout",
     "output_type": "stream",
     "text": [
      "{}\n"
     ]
    }
   ],
   "source": [
    "# 1. Create an empty dictionary:\n",
    "my_dict = {}\n",
    "print(my_dict)\n"
   ]
  },
  {
   "cell_type": "code",
   "execution_count": 3,
   "metadata": {},
   "outputs": [
    {
     "name": "stdout",
     "output_type": "stream",
     "text": [
      "{'key1': 'value1', 'key2': 'value2', 'key3': 'value3'}\n"
     ]
    }
   ],
   "source": [
    "# 2. Create a dictionary with three key-value pairs:\n",
    "my_dict = {\"key1\": \"value1\", \"key2\": \"value2\", \"key3\": \"value3\"}\n",
    "print(my_dict)\n"
   ]
  },
  {
   "cell_type": "code",
   "execution_count": 4,
   "metadata": {},
   "outputs": [
    {
     "name": "stdout",
     "output_type": "stream",
     "text": [
      "{'key1': 'value1', 'key2': 'value2', 'key3': 'value3', 'key4': 'value4'}\n"
     ]
    }
   ],
   "source": [
    "# 3. Add a key-value pair to a dictionary:\n",
    "my_dict[\"key4\"] = \"value4\"\n",
    "print(my_dict)\n"
   ]
  },
  {
   "cell_type": "code",
   "execution_count": 5,
   "metadata": {},
   "outputs": [
    {
     "name": "stdout",
     "output_type": "stream",
     "text": [
      "value1\n"
     ]
    }
   ],
   "source": [
    "# 4. Access a value in a dictionary using its key:\n",
    "value = my_dict[\"key1\"]\n",
    "print(value)\n",
    "\n"
   ]
  },
  {
   "cell_type": "code",
   "execution_count": 6,
   "metadata": {},
   "outputs": [
    {
     "name": "stdout",
     "output_type": "stream",
     "text": [
      "The key is in the dictionary.\n"
     ]
    }
   ],
   "source": [
    "# 5. Check if a key is in a dictionary:\n",
    "if \"key1\" in my_dict:\n",
    "    print(\"The key is in the dictionary.\")\n",
    "else:\n",
    "    print(\"The key is not in the dictionary.\")\n",
    "\n"
   ]
  },
  {
   "cell_type": "code",
   "execution_count": 7,
   "metadata": {},
   "outputs": [
    {
     "name": "stdout",
     "output_type": "stream",
     "text": [
      "key1\n",
      "key2\n",
      "key3\n",
      "key4\n"
     ]
    }
   ],
   "source": [
    "# 6. Loop through all the keys in a dictionary:\n",
    "for i in my_dict:\n",
    "    print(i)\n",
    "\n"
   ]
  },
  {
   "cell_type": "code",
   "execution_count": 9,
   "metadata": {},
   "outputs": [
    {
     "name": "stdout",
     "output_type": "stream",
     "text": [
      "value1\n",
      "value2\n",
      "value3\n",
      "value4\n"
     ]
    }
   ],
   "source": [
    "# 7. Loop through all the values in a dictionary:\n",
    "for value in my_dict.values():\n",
    "    print(value)\n",
    "\n"
   ]
  },
  {
   "cell_type": "code",
   "execution_count": 10,
   "metadata": {},
   "outputs": [
    {
     "name": "stdout",
     "output_type": "stream",
     "text": [
      "key1 value1\n",
      "key2 value2\n",
      "key3 value3\n",
      "key4 value4\n"
     ]
    }
   ],
   "source": [
    "# 8. Loop through all the key-value pairs in a dictionary:\n",
    "for key, value in my_dict.items():\n",
    "    print(key, value)\n",
    "\n"
   ]
  },
  {
   "cell_type": "code",
   "execution_count": 11,
   "metadata": {},
   "outputs": [],
   "source": [
    "# 9. Remove a key-value pair from a dictionary:\n",
    "del my_dict[\"key4\"]\n",
    "\n"
   ]
  },
  {
   "cell_type": "code",
   "execution_count": 12,
   "metadata": {},
   "outputs": [
    {
     "name": "stdout",
     "output_type": "stream",
     "text": [
      "3\n"
     ]
    }
   ],
   "source": [
    "# 10. Get the number of key-value pairs in a dictionary:\n",
    "num_pairs = len(my_dict)\n",
    "print(num_pairs)\n",
    "\n"
   ]
  },
  {
   "cell_type": "code",
   "execution_count": 13,
   "metadata": {},
   "outputs": [],
   "source": [
    "# 11. Update the value of a key in a dictionary:\n",
    "my_dict[\"key1\"] = \"value0\"\n",
    "\n"
   ]
  },
  {
   "cell_type": "code",
   "execution_count": 14,
   "metadata": {},
   "outputs": [
    {
     "name": "stdout",
     "output_type": "stream",
     "text": [
      "{0: 'value1', 1: 'value2', 2: 'value3'}\n"
     ]
    }
   ],
   "source": [
    "# 12. Create a dictionary with keys that are integers:\n",
    "my_dict = {\n",
    "    0: \"value1\",\n",
    "    1: \"value2\",\n",
    "    2: \"value3\"\n",
    "    }\n",
    "\n",
    "print(my_dict)\n"
   ]
  },
  {
   "cell_type": "code",
   "execution_count": 15,
   "metadata": {},
   "outputs": [
    {
     "name": "stdout",
     "output_type": "stream",
     "text": [
      "{'key1': 0, 'key2': 1, 'key3': 2}\n"
     ]
    }
   ],
   "source": [
    "# 13. Create a dictionary with keys that are strings and values that are integers:\n",
    "my_dict = {\n",
    "    \"key1\": 0, \n",
    "    \"key2\": 1, \n",
    "    \"key3\": 2\n",
    "    }\n",
    "\n",
    "print(my_dict)\n",
    "\n"
   ]
  },
  {
   "cell_type": "code",
   "execution_count": 16,
   "metadata": {},
   "outputs": [
    {
     "name": "stdout",
     "output_type": "stream",
     "text": [
      "{('key1', 'key2'): [1, 2, 3], ('key3', 'key4'): [4, 5, 6]}\n"
     ]
    }
   ],
   "source": [
    "# 14. Create a dictionary with keys that are tuples and values that are lists:\n",
    "my_dict = {\n",
    "    (\"key1\", \"key2\"): [1, 2, 3],\n",
    "    (\"key3\", \"key4\"): [4, 5, 6]\n",
    "    }\n",
    "print(my_dict)\n"
   ]
  },
  {
   "cell_type": "code",
   "execution_count": 17,
   "metadata": {},
   "outputs": [
    {
     "name": "stdout",
     "output_type": "stream",
     "text": [
      "{'key1': {'Ur mother so fat': 'she fell down and could not get up'}}\n"
     ]
    }
   ],
   "source": [
    "# 15. Create a nested dictionary:\n",
    "my_dict = {\n",
    "    \"key1\": {\"Ur mother so fat\":'she fell down and could not get up'}\n",
    "    }\n",
    "print(my_dict)\n"
   ]
  },
  {
   "cell_type": "code",
   "execution_count": 22,
   "metadata": {},
   "outputs": [
    {
     "name": "stdout",
     "output_type": "stream",
     "text": [
      "she fell down and could not get up\n"
     ]
    }
   ],
   "source": [
    "# 16. Access a value in a nested dictionary:\n",
    "value = my_dict[\"key1\"][\"Ur mother so fat\"]\n",
    "print(value)\n"
   ]
  },
  {
   "cell_type": "code",
   "execution_count": 26,
   "metadata": {},
   "outputs": [
    {
     "name": "stdout",
     "output_type": "stream",
     "text": [
      "key1 Ur mother so fat\n"
     ]
    }
   ],
   "source": [
    "# 17. Loop through all the keys in a nested dictionary:\n",
    "for key1 in my_dict:\n",
    "    for i in my_dict[key1]:\n",
    "        print(key1, i)\n",
    "\n"
   ]
  },
  {
   "cell_type": "code",
   "execution_count": 27,
   "metadata": {},
   "outputs": [],
   "source": [
    "# 18. Remove a key-value pair from a nested dictionary:\n",
    "del my_dict[\"key1\"][\"Ur mother so fat\"]\n",
    "\n"
   ]
  },
  {
   "cell_type": "code",
   "execution_count": 32,
   "metadata": {},
   "outputs": [
    {
     "name": "stdout",
     "output_type": "stream",
     "text": [
      "他跌倒后站不起来\n"
     ]
    }
   ],
   "source": [
    "# 19. Update the value of a key in a nested dictionary:\n",
    "my_dict[\"key1\"][\"你的妈妈很胖\"] = \"他跌倒后站不起来\"\n",
    "print(my_dict[\"key1\"][\"你的妈妈很胖\"])\n"
   ]
  },
  {
   "cell_type": "code",
   "execution_count": 31,
   "metadata": {},
   "outputs": [
    {
     "name": "stdout",
     "output_type": "stream",
     "text": [
      "The value is in the dictionary.\n"
     ]
    }
   ],
   "source": [
    "# 20. Check if a value is in a dictionary:\n",
    "if {'你的妈妈很胖': '他跌倒后站不起来'} in my_dict.values():\n",
    "    print(\"The value is in the dictionary.\")\n",
    "else:\n",
    "    print(\"The value is not in the dictionary.\")\n"
   ]
  },
  {
   "cell_type": "code",
   "execution_count": null,
   "metadata": {},
   "outputs": [],
   "source": []
  }
 ],
 "metadata": {
  "kernelspec": {
   "display_name": "Python 3",
   "language": "python",
   "name": "python3"
  },
  "language_info": {
   "name": "python",
   "version": "3.10.8"
  },
  "orig_nbformat": 4,
  "vscode": {
   "interpreter": {
    "hash": "7528c902bc60667dd0fddf8d0143f3661ff009b5ceb262efe3dcd0234d44ef32"
   }
  }
 },
 "nbformat": 4,
 "nbformat_minor": 2
}
