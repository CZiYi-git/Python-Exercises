{
 "cells": [
  {
   "cell_type": "code",
   "execution_count": 1,
   "metadata": {},
   "outputs": [
    {
     "name": "stdout",
     "output_type": "stream",
     "text": [
      "Correct\n"
     ]
    }
   ],
   "source": [
    "# Options\n",
    "# == (Equal)\n",
    "# > (Greater than)\n",
    "# < (Lesser than)\n",
    "\n",
    "x = 0\n",
    "y = 1\n",
    "z = 1\n",
    "\n",
    "# Change ? with the correct OPTION\n",
    "statement1 = (x < y)\n",
    "statement2 = (y == z)\n",
    "\n",
    "if statement1 and statement2:\n",
    "    print('Correct')\n",
    "else:\n",
    "    print('Wrong')"
   ]
  },
  {
   "cell_type": "code",
   "execution_count": 3,
   "metadata": {},
   "outputs": [
    {
     "name": "stdout",
     "output_type": "stream",
     "text": [
      "Correct\n"
     ]
    }
   ],
   "source": [
    "# Options\n",
    "# == (Equal)\n",
    "# > (Greater than)\n",
    "# < (Lesser than)\n",
    "\n",
    "x = 0\n",
    "y = 1\n",
    "z = 2\n",
    "\n",
    "# Change ? with the correct OPTION\n",
    "statement1 = (x < y)\n",
    "statement2 = (y <z)\n",
    "\n",
    "if statement1 and statement2:\n",
    "    print('Correct')\n",
    "else:\n",
    "    print('Wrong')"
   ]
  },
  {
   "cell_type": "code",
   "execution_count": null,
   "metadata": {},
   "outputs": [],
   "source": [
    "# Options\n",
    "# == (Equal)\n",
    "# > (Greater than)\n",
    "# < (Lesser than)\n",
    "\n",
    "x = 0\n",
    "y = 1\n",
    "z = 2\n",
    "\n",
    "# Change ? with the correct OPTION\n",
    "statement1 = (x ? y)\n",
    "statement2 = (x ? z)\n",
    "\n",
    "if statement1 and statement2:\n",
    "    print('Correct')\n",
    "else:\n",
    "    print('Wrong')"
   ]
  },
  {
   "cell_type": "code",
   "execution_count": 4,
   "metadata": {},
   "outputs": [
    {
     "name": "stdout",
     "output_type": "stream",
     "text": [
      "Correct\n"
     ]
    }
   ],
   "source": [
    "# Options\n",
    "# == (Equal)\n",
    "# > (Greater than)\n",
    "# < (Lesser than)\n",
    "\n",
    "x = 0\n",
    "y = 1\n",
    "z = y\n",
    "\n",
    "# Change ? with the correct OPTION\n",
    "statement1 = (x == y-z) # x is ? y minus z\n",
    "statement2 = (y < z*2) # y is ? z times 2\n",
    "\n",
    "if statement1 and statement2:\n",
    "    print('Correct')\n",
    "else:\n",
    "    print('Wrong')"
   ]
  },
  {
   "cell_type": "code",
   "execution_count": 4,
   "metadata": {},
   "outputs": [
    {
     "name": "stdout",
     "output_type": "stream",
     "text": [
      "Correct\n"
     ]
    }
   ],
   "source": [
    "# Options\n",
    "# == (Equal)\n",
    "# > (Greater than)\n",
    "# < (Lesser than)\n",
    "\n",
    "x = 10\n",
    "y = 5\n",
    "z = 50\n",
    "\n",
    "# Change ? with the correct OPTION\n",
    "statement1 = (x== y*2) # x is ? y times 2\n",
    "statement2 = (y == z/x) # y is ? z divide by x\n",
    "\n",
    "if statement1 and statement2:\n",
    "    print('Correct')\n",
    "else:\n",
    "    print('Wrong')"
   ]
  },
  {
   "cell_type": "code",
   "execution_count": 8,
   "metadata": {},
   "outputs": [
    {
     "name": "stdout",
     "output_type": "stream",
     "text": [
      "Correct\n"
     ]
    }
   ],
   "source": [
    "# Options\n",
    "# == (Equal)\n",
    "# > (Greater than)\n",
    "# < (Lesser than)\n",
    "# in \n",
    "# has\n",
    "\n",
    "word = 'hello'\n",
    "sentence = 'hello, my name is baymax'\n",
    "\n",
    "if word in sentence:\n",
    "    print('Correct')\n",
    "else:\n",
    "    print('Wrong')"
   ]
  },
  {
   "cell_type": "code",
   "execution_count": 11,
   "metadata": {},
   "outputs": [
    {
     "name": "stdout",
     "output_type": "stream",
     "text": [
      "hello\n",
      "correct\n"
     ]
    }
   ],
   "source": [
    "# Write an if else statement to check if input is 'hello'\n",
    "# DO NOT CHANGE\n",
    "q = input().lower()\n",
    "ans = 'hello'\n",
    "# DO NOT CHANGE\n",
    "\n",
    "# Write an if else statement\n",
    "# if (q is equal to ans) -> print(\"Correct!\") \n",
    "# else -> print(\"Wrong\") \n",
    "\n",
    "if (q==ans):\n",
    "    print('correct')\n",
    "\n",
    "else:\n",
    "    print('wrong')\n"
   ]
  },
  {
   "cell_type": "code",
   "execution_count": 3,
   "metadata": {},
   "outputs": [
    {
     "name": "stdout",
     "output_type": "stream",
     "text": [
      "21\n",
      "u r going to die soon of old age\n"
     ]
    }
   ],
   "source": [
    "# Write an if else statement to check for age\n",
    "# DO NOT CHANGE\n",
    "age = int(input())\n",
    "# DO NOT CHANGE\n",
    "\n",
    "# Write an if else statement\n",
    "# if age <= 10, print(\"You're really young\")\n",
    "# elif age <= 20, print(\"You're young\")\n",
    "# else, print(\"dang you old\")\n",
    "\n",
    "if (age<=10):\n",
    "    print('u r really young lad')\n",
    "\n",
    "elif (age<=20):\n",
    "    print('u r young???')\n",
    "\n",
    "else:\n",
    "    print('u r going to die soon of old age')\n"
   ]
  },
  {
   "cell_type": "code",
   "execution_count": null,
   "metadata": {},
   "outputs": [],
   "source": []
  }
 ],
 "metadata": {
  "kernelspec": {
   "display_name": "Python 3 (ipykernel)",
   "language": "python",
   "name": "python3"
  },
  "language_info": {
   "codemirror_mode": {
    "name": "ipython",
    "version": 3
   },
   "file_extension": ".py",
   "mimetype": "text/x-python",
   "name": "python",
   "nbconvert_exporter": "python",
   "pygments_lexer": "ipython3",
   "version": "3.9.12"
  }
 },
 "nbformat": 4,
 "nbformat_minor": 4
}
