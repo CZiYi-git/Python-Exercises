{
 "cells": [
  {
   "cell_type": "code",
   "execution_count": 1,
   "metadata": {},
   "outputs": [
    {
     "name": "stdout",
     "output_type": "stream",
     "text": [
      "Correct!\n"
     ]
    }
   ],
   "source": [
    "# Use the correct operator to check if x, y and z is the same\n",
    "\n",
    "# a. !=\n",
    "# b. >\n",
    "# c. <\n",
    "# d. ==\n",
    "\n",
    "x = 1\n",
    "y = 1\n",
    "z = 1\n",
    "\n",
    "if x == y == z:\n",
    "    print(\"Correct!\")\n",
    "else:\n",
    "    print('Wrong!')\n",
    "    "
   ]
  },
  {
   "cell_type": "code",
   "execution_count": 28,
   "metadata": {},
   "outputs": [
    {
     "name": "stdout",
     "output_type": "stream",
     "text": [
      "Correct!\n"
     ]
    }
   ],
   "source": [
    "# Use the correct operator to check if x is smaller than y but larger than Z\n",
    "\n",
    "# a. !=\n",
    "# b. >\n",
    "# c. <\n",
    "# d. ==\n",
    "\n",
    "x = 0\n",
    "y = 1\n",
    "z = -1\n",
    "\n",
    "if z < x < y:\n",
    "    print(\"Correct!\")\n",
    "else:\n",
    "    print('Wrong!')\n",
    "    "
   ]
  },
  {
   "cell_type": "code",
   "execution_count": 4,
   "metadata": {},
   "outputs": [
    {
     "name": "stdout",
     "output_type": "stream",
     "text": [
      "Correct!\n"
     ]
    }
   ],
   "source": [
    "# Use the correct operator to check if x is greater than y and z\n",
    "\n",
    "# a. !=\n",
    "# b. >\n",
    "# c. <\n",
    "# d. ==\n",
    "\n",
    "x = 1\n",
    "y = 0\n",
    "z = 0\n",
    "\n",
    "if z < x > y:\n",
    "    print(\"Correct!\")\n",
    "else:\n",
    "    print('Wrong!')\n",
    "\n",
    "    "
   ]
  },
  {
   "cell_type": "code",
   "execution_count": 6,
   "metadata": {},
   "outputs": [
    {
     "name": "stdout",
     "output_type": "stream",
     "text": [
      "Correct!\n"
     ]
    }
   ],
   "source": [
    "# Use the correct operator to check if x is not equal to y but equal to z\n",
    "\n",
    "# a. !=\n",
    "# b. >\n",
    "# c. <\n",
    "# d. ==\n",
    "\n",
    "x = 1\n",
    "y = 0\n",
    "z = 1\n",
    "if z == x != y:\n",
    "    print(\"Correct!\")\n",
    "else:\n",
    "    print('Wrong!')\n",
    "    "
   ]
  },
  {
   "cell_type": "code",
   "execution_count": 13,
   "metadata": {},
   "outputs": [
    {
     "name": "stdout",
     "output_type": "stream",
     "text": [
      "correct!\n"
     ]
    }
   ],
   "source": [
    "# Fix what is wrong with the codes bellow \n",
    "\n",
    "x = 77\n",
    "y = 11\n",
    "\n",
    "if x/y == 7:#error is in this line\n",
    "    print('correct!')\n",
    "    "
   ]
  },
  {
   "cell_type": "code",
   "execution_count": 15,
   "metadata": {},
   "outputs": [
    {
     "name": "stdout",
     "output_type": "stream",
     "text": [
      "What is your nameur mom\n"
     ]
    }
   ],
   "source": [
    "# Fix what is wrong with the codes bellow \n",
    "\n",
    "name = input('What is your name')\n",
    "\n",
    "if name == 'Dr Strange': #error is in this line\n",
    "    print(f'You are {name}!')"
   ]
  },
  {
   "cell_type": "code",
   "execution_count": 17,
   "metadata": {},
   "outputs": [
    {
     "name": "stdout",
     "output_type": "stream",
     "text": [
      "What is your nameur mom\n"
     ]
    }
   ],
   "source": [
    "# Fix what is wrong with the codes bellow \n",
    "\n",
    "name = input('What is your name') #error is in this line\n",
    "\n",
    "if name == 'Dr Strange': \n",
    "    print(f'You are {name}!')"
   ]
  },
  {
   "cell_type": "code",
   "execution_count": 19,
   "metadata": {},
   "outputs": [
    {
     "name": "stdout",
     "output_type": "stream",
     "text": [
      "What is your name ur mom 3\n"
     ]
    }
   ],
   "source": [
    "# Fix what is wrong with the codes bellow \n",
    "\n",
    "name = input('What is your name ') #error is in this line\n",
    "\n",
    "if name == 'Dr Strange': \n",
    "    print(f'You are {name}!')"
   ]
  },
  {
   "cell_type": "code",
   "execution_count": 20,
   "metadata": {},
   "outputs": [
    {
     "name": "stdout",
     "output_type": "stream",
     "text": [
      "What is your nameur mom\n"
     ]
    }
   ],
   "source": [
    "# Fix what is wrong with the codes bellow \n",
    "\n",
    "name = input('What is your name') \n",
    "\n",
    "if name == 'Dr Strange': \n",
    "    print(f'You are {name}!') #error is in this line"
   ]
  },
  {
   "cell_type": "code",
   "execution_count": 21,
   "metadata": {},
   "outputs": [
    {
     "name": "stdout",
     "output_type": "stream",
     "text": [
      "What is your namememe\n"
     ]
    }
   ],
   "source": [
    "# Fix what is wrong with the codes bellow \n",
    "\n",
    "name = input('What is your name') \n",
    "\n",
    "if name == 'Dr Strange': #error is in this line\n",
    "    print(f'You are {name}!') "
   ]
  },
  {
   "cell_type": "code",
   "execution_count": 24,
   "metadata": {},
   "outputs": [
    {
     "name": "stdout",
     "output_type": "stream",
     "text": [
      "What is your nameur mom\n",
      "You are ur mom!\n"
     ]
    }
   ],
   "source": [
    "# Fix what is wrong with the codes bellow \n",
    "\n",
    "name = input('What is your name') \n",
    "\n",
    "if name == 'Dr Strange': #error is in this line\n",
    "    print(f'You are {name}!')\n",
    "    \n",
    "else:\n",
    "    print(f'You are {name}!')"
   ]
  },
  {
   "cell_type": "code",
   "execution_count": 25,
   "metadata": {},
   "outputs": [
    {
     "name": "stdout",
     "output_type": "stream",
     "text": [
      "What is your nameur mom\n",
      "You are not ur mom!\n"
     ]
    }
   ],
   "source": [
    "# Fix what is wrong with the codes bellow \n",
    "\n",
    "name = input('What is your name') \n",
    "\n",
    "if name == 'Dr Strange': #error is in this line\n",
    "    print(f'You are {name}!')\n",
    "    \n",
    "else:\n",
    "    print(f'You are {name}!')"
   ]
  },
  {
   "cell_type": "code",
   "execution_count": 26,
   "metadata": {},
   "outputs": [
    {
     "name": "stdout",
     "output_type": "stream",
     "text": [
      "What is your nameur mom\n",
      "You are ur mom!\n"
     ]
    }
   ],
   "source": [
    "# Fix what is wrong with the codes bellow \n",
    "\n",
    "name = input('What is your name') \n",
    "\n",
    "if name == 'Dr Strange':\n",
    "    print(f'You are {name}!')\n",
    "    \n",
    "else: #error is in this line\n",
    "    print(f'You are {name}!')"
   ]
  },
  {
   "cell_type": "code",
   "execution_count": 27,
   "metadata": {},
   "outputs": [
    {
     "name": "stdout",
     "output_type": "stream",
     "text": [
      "What is your name mom\n",
      "Hi  mom!\n"
     ]
    }
   ],
   "source": [
    "# Fix what is wrong with the codes bellow \n",
    "\n",
    "name = input('What is your name') \n",
    "\n",
    "if name == 'Dr Strange':\n",
    "    print(f'You are {name}!')\n",
    "    \n",
    "else: #error is in this line\n",
    "    print(f'Hi {name}!')"
   ]
  },
  {
   "cell_type": "code",
   "execution_count": null,
   "metadata": {},
   "outputs": [],
   "source": []
  }
 ],
 "metadata": {
  "kernelspec": {
   "display_name": "Python 3 (ipykernel)",
   "language": "python",
   "name": "python3"
  },
  "language_info": {
   "codemirror_mode": {
    "name": "ipython",
    "version": 3
   },
   "file_extension": ".py",
   "mimetype": "text/x-python",
   "name": "python",
   "nbconvert_exporter": "python",
   "pygments_lexer": "ipython3",
   "version": "3.9.12"
  }
 },
 "nbformat": 4,
 "nbformat_minor": 4
}
