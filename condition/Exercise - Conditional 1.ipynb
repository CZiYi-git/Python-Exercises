{
 "cells": [
  {
   "cell_type": "code",
   "execution_count": 3,
   "metadata": {},
   "outputs": [
    {
     "name": "stdout",
     "output_type": "stream",
     "text": [
      "6\n",
      "7\n",
      "8\n",
      "9\n"
     ]
    }
   ],
   "source": [
    "#print numbers above 5 in range(10)\n",
    "#Replace '?' with the correct number\n",
    "\n",
    "for i in range(10):\n",
    "    #Check if i is bigger than 5\n",
    "    if i > 5:\n",
    "        print(i)\n",
    "    \n",
    "    "
   ]
  },
  {
   "cell_type": "code",
   "execution_count": 4,
   "metadata": {},
   "outputs": [
    {
     "name": "stdout",
     "output_type": "stream",
     "text": [
      "True\n"
     ]
    }
   ],
   "source": [
    "#write an if statement to check if the variable 'x' is 'samuel'\n",
    "#Replace ? with the correct opperator\n",
    "#Hint: use ==\n",
    "\n",
    "x = 'samuel' # dont chage this\n",
    "\n",
    "if x == 'samuel':\n",
    "    print(True)"
   ]
  },
  {
   "cell_type": "code",
   "execution_count": 11,
   "metadata": {},
   "outputs": [],
   "source": [
    "#write an if statement to check if the variable 'y' is NOT 'daryl'\n",
    "#Replace ? with the correct opperator\n",
    "#Hint: use !=\n",
    "\n",
    "y = 'daryl' # dont chage this\n",
    "\n",
    "if y !='daryl':\n",
    "    print(True)"
   ]
  },
  {
   "cell_type": "code",
   "execution_count": 10,
   "metadata": {},
   "outputs": [
    {
     "name": "stdout",
     "output_type": "stream",
     "text": [
      "True\n"
     ]
    }
   ],
   "source": [
    "#write an if statement to check if the variable 'z' is '34\n",
    "#Replace ? with the correct opperator\n",
    "#Hint: use ==\n",
    "\n",
    "z = 9+25 # dont chage this\n",
    "\n",
    "if z ==34:\n",
    "    print(True)"
   ]
  },
  {
   "cell_type": "code",
   "execution_count": 14,
   "metadata": {},
   "outputs": [
    {
     "name": "stdout",
     "output_type": "stream",
     "text": [
      "What is your weight?68\n",
      "What is your height? In cm169\n",
      "23.80869017191275\n"
     ]
    }
   ],
   "source": [
    "#Lets make a BMI calcluator now!\n",
    "\n",
    "w = int(input('What is your weight?'))\n",
    "h = int(input('What is your height? In cm'))\n",
    "\n",
    "bmi = w/(h/100)**2\n",
    "print(bmi)\n"
   ]
  },
  {
   "attachments": {
    "bmi.jpg": {
     "image/jpeg": "[encoded data removed]"
    }
   },
   "cell_type": "markdown",
   "metadata": {},
   "source": [
    "### Using this table, make a if else statement that helps to tell you what your BMI means!\n",
    "![bmi.jpg](attachment:bmi.jpg)"
   ]
  },
  {
   "cell_type": "code",
   "execution_count": 16,
   "metadata": {},
   "outputs": [
    {
     "name": "stdout",
     "output_type": "stream",
     "text": [
      "Your BMI is normal!\n"
     ]
    }
   ],
   "source": [
    "\n",
    "if bmi >= 40:\n",
    "    print('oh my you are obesee!')\n",
    "    \n",
    "elif bmi >= 25.0:\n",
    "    print('oh my you are overweight!')\n",
    "    \n",
    "elif bmi >= 18.5:\n",
    "    print('Your BMI is normal!')\n",
    "    \n",
    "else:\n",
    "    print('Oh no you are underweight!')"
   ]
  },
  {
   "cell_type": "code",
   "execution_count": null,
   "metadata": {},
   "outputs": [],
   "source": []
  }
 ],
 "metadata": {
  "kernelspec": {
   "display_name": "Python 3 (ipykernel)",
   "language": "python",
   "name": "python3"
  },
  "language_info": {
   "codemirror_mode": {
    "name": "ipython",
    "version": 3
   },
   "file_extension": ".py",
   "mimetype": "text/x-python",
   "name": "python",
   "nbconvert_exporter": "python",
   "pygments_lexer": "ipython3",
   "version": "3.9.12"
  }
 },
 "nbformat": 4,
 "nbformat_minor": 4
}
