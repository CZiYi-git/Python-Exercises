{
 "cells": [
  {
   "cell_type": "code",
   "execution_count": 2,
   "metadata": {},
   "outputs": [
    {
     "name": "stdout",
     "output_type": "stream",
     "text": [
      "50\n",
      "[5, 9, 5, 7, 0, 0, 9, 2, 10, 3] 50\n"
     ]
    }
   ],
   "source": [
    "###### IGNORE ######\n",
    "import random\n",
    "temp = []\n",
    "for i in range(10):\n",
    "    temp.append(random.randint(0,10))\n",
    "###### IGNORE ######\n",
    "\n",
    "# Create a function that returns the sum of all values in the list\n",
    "\n",
    "\n",
    "\n",
    "def sumAll(numbers):\n",
    "    result = 0\n",
    "    \n",
    "    for i in numbers:\n",
    "        # Add i into result here!\n",
    "        result += i\n",
    "        pass\n",
    "    \n",
    "    return result\n",
    "\n",
    "###### IGNORE ######\n",
    "print(sumAll(temp))\n",
    "print(temp,sum(temp))\n",
    "###### IGNORE ######"
   ]
  },
  {
   "cell_type": "code",
   "execution_count": 5,
   "metadata": {},
   "outputs": [
    {
     "name": "stdout",
     "output_type": "stream",
     "text": [
      "9\n"
     ]
    }
   ],
   "source": [
    "string = 'awdungseoawdigeuawdogubawdaogesudawdougbawdlabgawwdo'\n",
    "\n",
    "# Create a function that counts the number of 'a' inside the string\n",
    "\n",
    "def countA(string):\n",
    "    count = 0\n",
    "    \n",
    "    for i in string:\n",
    "        if i=='a': # Check if i equals 'a'\n",
    "            count+= 1\n",
    "            pass # Do something to count\n",
    "        pass\n",
    "    \n",
    "    return count\n",
    "\n",
    "print(countA(string))"
   ]
  },
  {
   "cell_type": "code",
   "execution_count": 8,
   "metadata": {},
   "outputs": [
    {
     "name": "stdout",
     "output_type": "stream",
     "text": [
      "10....\n",
      "9....\n",
      "8....\n",
      "7....\n",
      "6....\n",
      "5....\n",
      "4....\n",
      "3....\n",
      "2....\n",
      "1....\n",
      "You are in hell now!\n",
      "None\n"
     ]
    }
   ],
   "source": [
    "from time import sleep\n",
    "# Create a function that counts down from any number below 10\n",
    "\n",
    "# range(start,stop,step)\n",
    "def countDown(number):\n",
    "    \n",
    "    # Change (number,0,0) to the correct numbers\n",
    "    # e.g. (number,2,3)\n",
    "    # Hint, first number is given for you\n",
    "    for i in range(number,0,-1):\n",
    "        print(f'{i}....')\n",
    "        sleep(1)\n",
    "    \n",
    "    print('You are in hell now!')\n",
    "    \n",
    "print(countDown(10))\n"
   ]
  },
  {
   "cell_type": "code",
   "execution_count": 10,
   "metadata": {},
   "outputs": [
    {
     "name": "stdout",
     "output_type": "stream",
     "text": [
      "8\n",
      "[8, 2, 10, 0, 1, 6, 4, 8, 5, 10] 54\n"
     ]
    }
   ],
   "source": [
    "###### IGNORE ######\n",
    "import random\n",
    "temp = []\n",
    "for i in range(10):\n",
    "    temp.append(random.randint(0,10))\n",
    "###### IGNORE ######\n",
    "\n",
    "# Write a function that adds up every even number in a list\n",
    "\n",
    "def sumEvenNumbers(numbers):\n",
    "    result = 0\n",
    "    \n",
    "    for i in numbers:\n",
    "        if i%2==0: # Check if i is even\n",
    "            result+=1\n",
    "            # Add i into result here!\n",
    "            pass\n",
    "        pass\n",
    "    \n",
    "    return result\n",
    "\n",
    "###### IGNORE ######\n",
    "print(sumEvenNumbers(temp))\n",
    "print(temp,sum(temp))\n",
    "###### IGNORE ######\n",
    "\n"
   ]
  },
  {
   "cell_type": "code",
   "execution_count": null,
   "metadata": {},
   "outputs": [],
   "source": []
  },
  {
   "cell_type": "code",
   "execution_count": null,
   "metadata": {},
   "outputs": [],
   "source": []
  }
 ],
 "metadata": {
  "kernelspec": {
   "display_name": "Python 3 (ipykernel)",
   "language": "python",
   "name": "python3"
  },
  "language_info": {
   "codemirror_mode": {
    "name": "ipython",
    "version": 3
   },
   "file_extension": ".py",
   "mimetype": "text/x-python",
   "name": "python",
   "nbconvert_exporter": "python",
   "pygments_lexer": "ipython3",
   "version": "3.10.8"
  }
 },
 "nbformat": 4,
 "nbformat_minor": 2
}
