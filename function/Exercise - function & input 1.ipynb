{
 "cells": [
  {
   "cell_type": "code",
   "execution_count": 3,
   "metadata": {},
   "outputs": [
    {
     "name": "stdout",
     "output_type": "stream",
     "text": [
      "What is the mass of the sun?1g\n",
      "1g\n"
     ]
    }
   ],
   "source": [
    "#input is used to ask user for an answer! here is an example\n",
    "\n",
    "x = input(\"What is the mass of the sun?\")\n",
    "print(x)"
   ]
  },
  {
   "cell_type": "code",
   "execution_count": 4,
   "metadata": {},
   "outputs": [
    {
     "name": "stdout",
     "output_type": "stream",
     "text": [
      "Enter your name:\n",
      "zY\n",
      "Hello, zY\n"
     ]
    }
   ],
   "source": [
    "#Create a variable below to get the input of the user and print it out!\n",
    "#Replace ? with any variable name!\n",
    "\n",
    "\n",
    "print('Enter your name:')\n",
    "\n",
    "#Ask for input\n",
    "hello = input()\n",
    "print('Hello, ' + hello) #Print input\n"
   ]
  },
  {
   "cell_type": "code",
   "execution_count": 12,
   "metadata": {},
   "outputs": [
    {
     "name": "stdout",
     "output_type": "stream",
     "text": [
      "Enter your favourite food:\n",
      "ur mom\n",
      "Hello, ur mom\n"
     ]
    }
   ],
   "source": [
    "#This is a function to ask users for their favourite food!\n",
    "#Write a line of code to use it\n",
    "\n",
    "#Do not touch this!!\n",
    "def AskFavouriteFood():\n",
    "    print('Enter your favourite food:')\n",
    "    x = input()\n",
    "    print('Hello, ' + x)\n",
    "    \n",
    "        \n",
    "#Add code here\n",
    "AskFavouriteFood()"
   ]
  },
  {
   "cell_type": "code",
   "execution_count": 3,
   "metadata": {},
   "outputs": [
    {
     "ename": "SyntaxError",
     "evalue": "invalid syntax (329593394.py, line 7)",
     "output_type": "error",
     "traceback": [
      "\u001b[1;36m  Input \u001b[1;32mIn [3]\u001b[1;36m\u001b[0m\n\u001b[1;33m    def Ask('What is your name?')\u001b[0m\n\u001b[1;37m            ^\u001b[0m\n\u001b[1;31mSyntaxError\u001b[0m\u001b[1;31m:\u001b[0m invalid syntax\n"
     ]
    }
   ],
   "source": [
    "#Fix the error below so that the codes work correctly!\n",
    "\n",
    "def ask('question'): #Error is here\n",
    "    q = input(question)\n",
    "    print(q)\n",
    "\n",
    "def Ask('What is your name?')"
   ]
  },
  {
   "cell_type": "code",
   "execution_count": 14,
   "metadata": {},
   "outputs": [
    {
     "name": "stdout",
     "output_type": "stream",
     "text": [
      "What is your favourite food?ur mom 2\n",
      "ur mom 2\n"
     ]
    }
   ],
   "source": [
    "#Fix the error below so that the codes work correctly!\n",
    "\n",
    "def Ask(question): \n",
    "    q = input(question)\n",
    "    print(q)\n",
    "\n",
    "Ask('What is your favourite food?') #Error is here"
   ]
  },
  {
   "cell_type": "code",
   "execution_count": 15,
   "metadata": {},
   "outputs": [
    {
     "name": "stdout",
     "output_type": "stream",
     "text": [
      "What is your dream job?ur mom 3\n",
      "ur mom 3\n"
     ]
    }
   ],
   "source": [
    "#Fix the error below so that the codes work correctly!\n",
    "\n",
    "def Ask(question): #Error is here\n",
    "    q = input(question)\n",
    "    print(q)\n",
    "\n",
    "Ask('What is your dream job?') "
   ]
  },
  {
   "cell_type": "code",
   "execution_count": 16,
   "metadata": {},
   "outputs": [
    {
     "name": "stdout",
     "output_type": "stream",
     "text": [
      "What is your favourite sport?ur mom 4\n",
      "ur mom 4\n"
     ]
    }
   ],
   "source": [
    "#Fix the error below so that the codes work correctly!\n",
    "\n",
    "def Ask(question): #Error is here\n",
    "    q = input(question)\n",
    "    print(q)\n",
    "\n",
    "Ask('What is your favourite sport?') "
   ]
  },
  {
   "cell_type": "code",
   "execution_count": 17,
   "metadata": {},
   "outputs": [
    {
     "name": "stdout",
     "output_type": "stream",
     "text": [
      "What is your favourite subject?Ur mom 5\n",
      "Ur mom 5\n"
     ]
    }
   ],
   "source": [
    "#Fix the error below so that the codes work correctly!\n",
    "\n",
    "def Ask(question):\n",
    "    q = input(question) #Error is here\n",
    "    print(q)\n",
    "\n",
    "Ask('What is your favourite subject?') "
   ]
  },
  {
   "cell_type": "code",
   "execution_count": 18,
   "metadata": {},
   "outputs": [
    {
     "name": "stdout",
     "output_type": "stream",
     "text": [
      "What is your favourite game?ur mom 6\n",
      "ur mom 6\n"
     ]
    }
   ],
   "source": [
    "#Fix the error below so that the codes work correctly!\n",
    "\n",
    "def Ask(question): \n",
    "    q = input(question)\n",
    "    print(q)\n",
    "\n",
    "Ask('What is your favourite game?') #Error is here"
   ]
  },
  {
   "cell_type": "code",
   "execution_count": 20,
   "metadata": {},
   "outputs": [
    {
     "name": "stdout",
     "output_type": "stream",
     "text": [
      "how old are you?ur mom's age\n",
      "ur mom's age\n"
     ]
    }
   ],
   "source": [
    "#Fix the error below so that the codes work correctly!\n",
    "\n",
    "def Ask(question):\n",
    "    q = input(question)\n",
    "    print(q)\n",
    "\n",
    "Ask('how old are you?') #Error is here"
   ]
  },
  {
   "cell_type": "code",
   "execution_count": 21,
   "metadata": {},
   "outputs": [
    {
     "name": "stdout",
     "output_type": "stream",
     "text": [
      "Do you like coding?Says ur mom\n",
      "Says ur mom\n"
     ]
    }
   ],
   "source": [
    "#Fix the error below so that the codes work correctly!\n",
    "\n",
    "def Ask(question):\n",
    "    q = input(question)\n",
    "    print(q)\n",
    "\n",
    "Ask('Do you like coding?') #Error is here"
   ]
  },
  {
   "cell_type": "code",
   "execution_count": null,
   "metadata": {},
   "outputs": [],
   "source": []
  }
 ],
 "metadata": {
  "kernelspec": {
   "display_name": "Python 3 (ipykernel)",
   "language": "python",
   "name": "python3"
  },
  "language_info": {
   "codemirror_mode": {
    "name": "ipython",
    "version": 3
   },
   "file_extension": ".py",
   "mimetype": "text/x-python",
   "name": "python",
   "nbconvert_exporter": "python",
   "pygments_lexer": "ipython3",
   "version": "3.9.12"
  }
 },
 "nbformat": 4,
 "nbformat_minor": 4
}
