{
 "cells": [
  {
   "cell_type": "code",
   "execution_count": 22,
   "metadata": {},
   "outputs": [
    {
     "name": "stdout",
     "output_type": "stream",
     "text": [
      "hello world\n"
     ]
    }
   ],
   "source": [
    "# Write a function that prints 'Hello world'\n",
    "\n",
    "def KillUrMom():\n",
    "    print('hello world')\n",
    "    \n",
    "KillUrMom()"
   ]
  },
  {
   "cell_type": "code",
   "execution_count": 7,
   "metadata": {},
   "outputs": [
    {
     "name": "stdout",
     "output_type": "stream",
     "text": [
      "We are looking for 1 in ['Is', 9, 'This', 6, 'A', 2]!\n",
      "Value is not in the list!\n"
     ]
    }
   ],
   "source": [
    "import random\n",
    "\n",
    "random_list = []\n",
    "for i in range(3):\n",
    "    random_list.append(random.choice(['Hello','This','Is','A','Random','String']))\n",
    "    random_list.append(random.randint(0,9))\n",
    "    \n",
    "\n",
    "\n",
    "# Write a function that finds out if a value is in a list\n",
    "\n",
    "def find(value,temp_list):\n",
    "    print(f'We are looking for {value} in {temp_list}!')\n",
    "    \n",
    "    for i in temp_list:\n",
    "        #if value equals i\n",
    "        if value ==i :\n",
    "            print(\"Value is in the list!\")\n",
    "            return\n",
    "    \n",
    "    print(\"Value is not in the list!\")\n",
    "    \n",
    "find(1,random_list)"
   ]
  },
  {
   "cell_type": "code",
   "execution_count": 20,
   "metadata": {},
   "outputs": [
    {
     "name": "stdout",
     "output_type": "stream",
     "text": [
      "wAydgAdsbuAlsdiAefybxAAbdiAAlbwAdiwjdAshjgbAwkdunAwdbA\n"
     ]
    }
   ],
   "source": [
    "\n",
    "temp_string = 'waydgadsbualsdiaefybxaabdiaalbwadiwjdashjgbawkdunawdba'\n",
    "\n",
    "# Write a function to change all 'a' to 'A'\n",
    "def changeA(temp):\n",
    "    temp = temp.replace('a','A')\n",
    "            \n",
    "    return temp\n",
    "\n",
    "# Do not touch\n",
    "print(changeA(temp_string))\n",
    "    "
   ]
  },
  {
   "cell_type": "code",
   "execution_count": 8,
   "metadata": {},
   "outputs": [
    {
     "name": "stdout",
     "output_type": "stream",
     "text": [
      "2.0\n"
     ]
    }
   ],
   "source": [
    "#write a function to multiply the given number by 0.5\n",
    "def half(x):\n",
    "    result = x/2\n",
    "    \n",
    "    return result\n",
    "    \n",
    "\n",
    "print(half(4))"
   ]
  },
  {
   "cell_type": "code",
   "execution_count": 12,
   "metadata": {},
   "outputs": [
    {
     "name": "stdout",
     "output_type": "stream",
     "text": [
      "530804797097074763918975156923\n",
      "The number of even number is 11\n"
     ]
    }
   ],
   "source": [
    "import random\n",
    "temp = ''\n",
    "for i in range(30):\n",
    "    temp += str(random.randint(0,9))\n",
    "\n",
    "# Write a function that counts the number of even digits in a string\n",
    "def countEven(s):\n",
    "    count = 0\n",
    "    for value in s:\n",
    "\n",
    "        # Convert string to integer\n",
    "        number = int(value)\n",
    "        \n",
    "        # if remainder of number is equal to 0\n",
    "        if number % 2 == 0:\n",
    "            #add 1 to count\n",
    "            count += 1\n",
    "            \n",
    "    return count\n",
    "\n",
    "print(temp)\n",
    "evens = countEven(temp)\n",
    "print(f'The number of even number is {evens}')\n",
    "        \n"
   ]
  },
  {
   "cell_type": "code",
   "execution_count": null,
   "metadata": {},
   "outputs": [],
   "source": []
  }
 ],
 "metadata": {
  "kernelspec": {
   "display_name": "Python 3 (ipykernel)",
   "language": "python",
   "name": "python3"
  },
  "language_info": {
   "codemirror_mode": {
    "name": "ipython",
    "version": 3
   },
   "file_extension": ".py",
   "mimetype": "text/x-python",
   "name": "python",
   "nbconvert_exporter": "python",
   "pygments_lexer": "ipython3",
   "version": "3.10.8"
  }
 },
 "nbformat": 4,
 "nbformat_minor": 2
}
