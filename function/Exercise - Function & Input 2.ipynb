{
 "cells": [
  {
   "cell_type": "code",
   "execution_count": 2,
   "metadata": {},
   "outputs": [
    {
     "name": "stdout",
     "output_type": "stream",
     "text": [
      "Whats your favourite food?\n",
      "ur mom is back\n",
      "Wow I love eating ur mom is back too!\n"
     ]
    }
   ],
   "source": [
    "#Create a variable below to get the input of the user and print it out!\n",
    "#Replace ? with any variable name!\n",
    "\n",
    "\n",
    "print('Whats your favourite food?')\n",
    "\n",
    "#Ask for input\n",
    "ask = input()\n",
    "print('Wow I love eating ' + ask + ' too!') #Print input\n"
   ]
  },
  {
   "cell_type": "code",
   "execution_count": 3,
   "metadata": {
    "scrolled": true
   },
   "outputs": [
    {
     "name": "stdout",
     "output_type": "stream",
     "text": [
      "What is 19589 - 2584?17005\n",
      "correct!\n"
     ]
    }
   ],
   "source": [
    "#This is a function to generate a math question!\n",
    "#Write a line of code to call the function!\n",
    "\n",
    "import random as rand\n",
    "\n",
    "\n",
    "#Do not touch this!!\n",
    "def MathQuestion():\n",
    "    x = rand.randint(5001,20000)\n",
    "    y = rand.randint(0,5000)\n",
    "    \n",
    "    question = f'What is {str(x)} - {str(y)}?'\n",
    "    ans = int(input(question))\n",
    "    \n",
    "    if ans == x-y:\n",
    "        print('correct!')\n",
    "\n",
    "        \n",
    "#Add code here!!!\n",
    "#Call the function below!\n",
    "MathQuestion()"
   ]
  },
  {
   "cell_type": "code",
   "execution_count": 5,
   "metadata": {},
   "outputs": [
    {
     "name": "stdout",
     "output_type": "stream",
     "text": [
      "What is 11811 - 3604?293847\n",
      "Wrong!\n"
     ]
    }
   ],
   "source": [
    "#This is a function to generate a math question!\n",
    "#Follow the instructions below!\n",
    "\n",
    "import random as rand\n",
    "\n",
    "\n",
    "#Do not touch this!!\n",
    "def MathQuestion():\n",
    "    x = rand.randint(5001,20000)\n",
    "    y = rand.randint(0,5000)\n",
    "    \n",
    "    question = f'What is {str(x)} - {str(y)}?'\n",
    "    ans = int(input(question))\n",
    "    \n",
    "    if ans == x-y:\n",
    "        print('correct!')\n",
    "    else:\n",
    "        print('Wrong!')\n",
    "    #Add Else condition below and print 'Wrong!' when the answer is not correct\n",
    "\n",
    "        \n",
    "#Call the function below\n",
    "MathQuestion()"
   ]
  },
  {
   "cell_type": "code",
   "execution_count": 8,
   "metadata": {},
   "outputs": [
    {
     "name": "stdout",
     "output_type": "stream",
     "text": [
      "What is your name?mommy\n",
      "mommy\n"
     ]
    }
   ],
   "source": [
    "#Fix the error below so that the codes work correctly!\n",
    "\n",
    "def Ask(question): #Error is here\n",
    "    q = input(question)\n",
    "    print(q)\n",
    "\n",
    "Ask('What is your name?')"
   ]
  },
  {
   "cell_type": "code",
   "execution_count": 9,
   "metadata": {},
   "outputs": [
    {
     "name": "stdout",
     "output_type": "stream",
     "text": [
      "What is your dream job?Minecraft youtuber\n",
      "Minecraft youtuber\n"
     ]
    }
   ],
   "source": [
    "#Fix the error below so that the codes work correctly!\n",
    "\n",
    "def Ask(question): #Error is here\n",
    "    q = input(question)\n",
    "    print(q)\n",
    "\n",
    "Ask('What is your dream job?') "
   ]
  },
  {
   "cell_type": "code",
   "execution_count": null,
   "metadata": {},
   "outputs": [],
   "source": [
    "#Fix the error below so that the codes work correctly!\n",
    "\n",
    "def Ask(question):#Error is here\n",
    "    q = input(question)\n",
    "    print(q)\n",
    "\n",
    "Ask('What is your dream job?') "
   ]
  },
  {
   "cell_type": "code",
   "execution_count": 10,
   "metadata": {},
   "outputs": [
    {
     "name": "stdout",
     "output_type": "stream",
     "text": [
      "What is your favourite sport?badminton\n",
      "badminton\n"
     ]
    }
   ],
   "source": [
    "#Fix the error below so that the codes work correctly!\n",
    "\n",
    "def Ask(question): #Error is here\n",
    "    q = input(question)\n",
    "    print(q)\n",
    "\n",
    "Ask('What is your favourite sport?') "
   ]
  },
  {
   "cell_type": "code",
   "execution_count": 11,
   "metadata": {},
   "outputs": [
    {
     "name": "stdout",
     "output_type": "stream",
     "text": [
      "MATHHHHH\n",
      "MATHHHHH\n"
     ]
    }
   ],
   "source": [
    "#Fix the error below so that the codes work correctly!\n",
    "\n",
    "def Ask(question):\n",
    "    q = input() #Error is here\n",
    "    print(q)\n",
    "\n",
    "Ask('What is your favourite subject?') "
   ]
  },
  {
   "cell_type": "code",
   "execution_count": 13,
   "metadata": {},
   "outputs": [
    {
     "name": "stdout",
     "output_type": "stream",
     "text": [
      "MINECRAFT\n",
      "MINECRAFT\n"
     ]
    }
   ],
   "source": [
    "#Fix the error below so that the codes work correctly!\n",
    "\n",
    "def Ask(question): #Error is here\n",
    "    q = input()\n",
    "    print(q)\n",
    "\n",
    "Ask('What is your favourite game?') #Error is here"
   ]
  },
  {
   "cell_type": "code",
   "execution_count": 14,
   "metadata": {},
   "outputs": [
    {
     "name": "stdout",
     "output_type": "stream",
     "text": [
      "how old are you998347598443728648732647823647826487326487264832684763287628756378468236498248732647832687264823643\n",
      "998347598443728648732647823647826487326487264832684763287628756378468236498248732647832687264823643\n"
     ]
    }
   ],
   "source": [
    "#Fix the error below so that the codes work correctly!\n",
    "\n",
    "def Ask(question):\n",
    "    q = input(question)\n",
    "    print(q)\n",
    "\n",
    "Ask('how old are you') #Error is here"
   ]
  },
  {
   "cell_type": "code",
   "execution_count": 15,
   "metadata": {},
   "outputs": [
    {
     "name": "stdout",
     "output_type": "stream",
     "text": [
      "Do you like codingmayybe\n",
      "mayybe\n"
     ]
    }
   ],
   "source": [
    "#Fix the error below so that the codes work correctly!\n",
    "\n",
    "def Ask(question):\n",
    "    q = input(question)\n",
    "    print(q)\n",
    "\n",
    "Ask('Do you like coding') #Error is here"
   ]
  },
  {
   "cell_type": "code",
   "execution_count": null,
   "metadata": {},
   "outputs": [],
   "source": []
  }
 ],
 "metadata": {
  "kernelspec": {
   "display_name": "Python 3 (ipykernel)",
   "language": "python",
   "name": "python3"
  },
  "language_info": {
   "codemirror_mode": {
    "name": "ipython",
    "version": 3
   },
   "file_extension": ".py",
   "mimetype": "text/x-python",
   "name": "python",
   "nbconvert_exporter": "python",
   "pygments_lexer": "ipython3",
   "version": "3.9.12"
  }
 },
 "nbformat": 4,
 "nbformat_minor": 4
}
