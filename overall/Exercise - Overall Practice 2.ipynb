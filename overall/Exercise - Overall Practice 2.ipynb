{
 "cells": [
  {
   "cell_type": "code",
   "execution_count": 1,
   "metadata": {},
   "outputs": [
    {
     "name": "stdout",
     "output_type": "stream",
     "text": [
      "9.9999999999999999999999999\n"
     ]
    }
   ],
   "source": [
    "#print a floating point number\n",
    "\n",
    "print('9.9999999999999999999999999')"
   ]
  },
  {
   "cell_type": "code",
   "execution_count": 2,
   "metadata": {},
   "outputs": [
    {
     "name": "stdout",
     "output_type": "stream",
     "text": [
      "50008\n"
     ]
    }
   ],
   "source": [
    "#print 94 multiplied by 532\n",
    "\n",
    "print(94*532)"
   ]
  },
  {
   "cell_type": "code",
   "execution_count": 4,
   "metadata": {},
   "outputs": [
    {
     "name": "stdout",
     "output_type": "stream",
     "text": [
      "My dinner is ur mom\n"
     ]
    }
   ],
   "source": [
    "#print the combination of two strings\n",
    "\n",
    "a = 'My dinner is'\n",
    "b = ' ur mom'\n",
    "\n",
    "print(a+b)"
   ]
  },
  {
   "cell_type": "code",
   "execution_count": 6,
   "metadata": {},
   "outputs": [
    {
     "name": "stdout",
     "output_type": "stream",
     "text": [
      "What is you r fav showur mom die\n",
      "ur mom die\n"
     ]
    }
   ],
   "source": [
    "#Create an input that asks the user for their favourite show\n",
    "\n",
    "question = 'What is you r fav show' #Add the question here\n",
    "answer = input(question)\n",
    "\n",
    "#print the input below\n",
    "print(answer)"
   ]
  },
  {
   "cell_type": "code",
   "execution_count": 9,
   "metadata": {},
   "outputs": [],
   "source": [
    "#create a list of 5 float numbers\n",
    "tempList = [6.6,6.7,6.8,6.9,7.0]"
   ]
  },
  {
   "cell_type": "code",
   "execution_count": 11,
   "metadata": {},
   "outputs": [
    {
     "name": "stdout",
     "output_type": "stream",
     "text": [
      "6.7\n"
     ]
    }
   ],
   "source": [
    "#print out the value of the 3rd object inside the list\n",
    "print(tempList[1])"
   ]
  },
  {
   "cell_type": "code",
   "execution_count": 12,
   "metadata": {},
   "outputs": [
    {
     "name": "stdout",
     "output_type": "stream",
     "text": [
      "6.9\n"
     ]
    }
   ],
   "source": [
    "#print out the value of the 4th object inside the list\n",
    "print(tempList[3])"
   ]
  },
  {
   "cell_type": "code",
   "execution_count": 13,
   "metadata": {},
   "outputs": [
    {
     "name": "stdout",
     "output_type": "stream",
     "text": [
      "6.6\n"
     ]
    }
   ],
   "source": [
    "#print out the value of the 1st object inside the list\n",
    "print(tempList[0])"
   ]
  },
  {
   "cell_type": "code",
   "execution_count": 14,
   "metadata": {},
   "outputs": [
    {
     "name": "stdout",
     "output_type": "stream",
     "text": [
      "13.3\n"
     ]
    }
   ],
   "source": [
    "#Add the first number of the list with the second number of the list\n",
    "#Replace ? with the correct answer\n",
    "\n",
    "first = tempList[0]\n",
    "second = tempList[1]\n",
    "\n",
    "print(first+second)"
   ]
  },
  {
   "cell_type": "code",
   "execution_count": 15,
   "metadata": {},
   "outputs": [
    {
     "name": "stdout",
     "output_type": "stream",
     "text": [
      "13.8\n"
     ]
    }
   ],
   "source": [
    "#Add the third number of the list with the last number of the list\n",
    "#Replace ? with the correct answer\n",
    "\n",
    "third = tempList[2]\n",
    "last = tempList[4]\n",
    "\n",
    "print(third+last)"
   ]
  },
  {
   "cell_type": "code",
   "execution_count": 16,
   "metadata": {},
   "outputs": [
    {
     "name": "stdout",
     "output_type": "stream",
     "text": [
      "6.6\n",
      "6.7\n",
      "6.8\n",
      "6.9\n",
      "7.0\n"
     ]
    }
   ],
   "source": [
    "#Using a for loop, print out all values inside the list\n",
    "for i in tempList:\n",
    "    print(i)"
   ]
  },
  {
   "cell_type": "code",
   "execution_count": 17,
   "metadata": {},
   "outputs": [
    {
     "name": "stdout",
     "output_type": "stream",
     "text": [
      "34.0\n"
     ]
    }
   ],
   "source": [
    "#ADD all the numbers together int tempList and print the result\n",
    "#Replace ? with the correct answer\n",
    "\n",
    "total = 0\n",
    "for i in tempList:\n",
    "    total += i\n",
    "print(total)\n"
   ]
  },
  {
   "cell_type": "code",
   "execution_count": 19,
   "metadata": {},
   "outputs": [
    {
     "name": "stdout",
     "output_type": "stream",
     "text": [
      "14523.6168\n"
     ]
    }
   ],
   "source": [
    "#MULTIPLY all the numbers together int tempList and print the result\n",
    "#Replace ? with the correct answer\n",
    "\n",
    "total = 1\n",
    "for i in tempList:\n",
    "    total *= i\n",
    "print(total)"
   ]
  },
  {
   "cell_type": "code",
   "execution_count": null,
   "metadata": {},
   "outputs": [],
   "source": []
  }
 ],
 "metadata": {
  "kernelspec": {
   "display_name": "Python 3 (ipykernel)",
   "language": "python",
   "name": "python3"
  },
  "language_info": {
   "codemirror_mode": {
    "name": "ipython",
    "version": 3
   },
   "file_extension": ".py",
   "mimetype": "text/x-python",
   "name": "python",
   "nbconvert_exporter": "python",
   "pygments_lexer": "ipython3",
   "version": "3.9.12"
  }
 },
 "nbformat": 4,
 "nbformat_minor": 4
}
