{
 "cells": [
  {
   "cell_type": "code",
   "execution_count": null,
   "metadata": {},
   "outputs": [],
   "source": [
    "#print a floating point number\n",
    "\n",
    "print(______)"
   ]
  },
  {
   "cell_type": "code",
   "execution_count": null,
   "metadata": {},
   "outputs": [],
   "source": [
    "#print the remainder of 789456 divided by 2\n",
    "\n",
    "#Options\n",
    "# +\n",
    "# -\n",
    "# /\n",
    "# *\n",
    "# //\n",
    "# **\n",
    "# %\n",
    "\n",
    "print(______)\n"
   ]
  },
  {
   "cell_type": "code",
   "execution_count": null,
   "metadata": {},
   "outputs": [],
   "source": [
    "# Find the largest string in the list with a loop\n",
    "\n",
    "question_list = ['Find','the','largest','string','in','this','list']\n",
    "\n",
    "largest_string = question_list[0]\n",
    "largest_length = len(largest_string)\n",
    "\n",
    "\n",
    "for i in question_list:\n",
    "    \n",
    "    \n",
    "    # Do stuff here\n",
    "    \n",
    "    # Use an if statement to find the largest string and change the variable\n",
    "    # Hint:\n",
    "    print(i)\n",
    "    print(len(i))\n",
    "    \n",
    "print(largest_string)"
   ]
  },
  {
   "cell_type": "code",
   "execution_count": null,
   "metadata": {},
   "outputs": [],
   "source": [
    "#Create an input that asks the user for their height\n",
    "\n",
    "question = '' #Add the question here\n",
    "answer = input(question)\n",
    "\n",
    "#print the input below\n",
    "print(______)"
   ]
  },
  {
   "cell_type": "code",
   "execution_count": null,
   "metadata": {},
   "outputs": [],
   "source": [
    "import random\n",
    "#Here is a list with 10 numbers\n",
    "tempList = [17396,6352,7593,2051,735,6,82,925,23,82]"
   ]
  },
  {
   "cell_type": "code",
   "execution_count": 2,
   "metadata": {},
   "outputs": [],
   "source": [
    "# max(tempList) is a function that finds the largest number in a list\n",
    "# print the largest number in the list\n",
    "largest = _______\n",
    "print(largest)"
   ]
  },
  {
   "cell_type": "code",
   "execution_count": null,
   "metadata": {},
   "outputs": [],
   "source": [
    "# min(tempList) is a function that finds the smallest number in a list\n",
    "# print the smallest number in the list\n",
    "smallest = _______\n",
    "print(smallest)"
   ]
  },
  {
   "cell_type": "code",
   "execution_count": null,
   "metadata": {},
   "outputs": [],
   "source": [
    "#Using min() and max()\n",
    "#find the difference between the largest and smallest number\n",
    "\n",
    "print(____ - ____)"
   ]
  }
 ],
 "metadata": {
  "kernelspec": {
   "display_name": "Python 3 (ipykernel)",
   "language": "python",
   "name": "python3"
  },
  "language_info": {
   "codemirror_mode": {
    "name": "ipython",
    "version": 3
   },
   "file_extension": ".py",
   "mimetype": "text/x-python",
   "name": "python",
   "nbconvert_exporter": "python",
   "pygments_lexer": "ipython3",
   "version": "3.11.1"
  }
 },
 "nbformat": 4,
 "nbformat_minor": 4
}
