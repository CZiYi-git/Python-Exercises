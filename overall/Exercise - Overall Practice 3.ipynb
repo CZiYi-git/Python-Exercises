{
 "cells": [
  {
   "cell_type": "code",
   "execution_count": 10,
   "metadata": {},
   "outputs": [
    {
     "name": "stdout",
     "output_type": "stream",
     "text": [
      "56.5\n"
     ]
    }
   ],
   "source": [
    "#print a floating point number\n",
    "\n",
    "print(56.5)"
   ]
  },
  {
   "cell_type": "code",
   "execution_count": 9,
   "metadata": {},
   "outputs": [
    {
     "name": "stdout",
     "output_type": "stream",
     "text": [
      "507\n"
     ]
    }
   ],
   "source": [
    "#print the remainder of 246823 divided by 532\n",
    "\n",
    "#Options\n",
    "# +\n",
    "# -\n",
    "# /\n",
    "# *\n",
    "# //\n",
    "# **\n",
    "# %\n",
    "\n",
    "print(246823%532)\n"
   ]
  },
  {
   "cell_type": "code",
   "execution_count": 2,
   "metadata": {},
   "outputs": [
    {
     "name": "stdout",
     "output_type": "stream",
     "text": [
      "What was your last meal?f\n",
      "What is your favourite colour?f\n",
      "Your rapper name is f f\n"
     ]
    }
   ],
   "source": [
    "#print the combination of two strings\n",
    "\n",
    "q1 = 'What was your last meal?'\n",
    "q2 = 'What is your favourite colour?'\n",
    "\n",
    "er = input(q1)\n",
    "eu = input(q2)\n",
    "\n",
    "print(f'Your rapper name is {er} {eu}')"
   ]
  },
  {
   "cell_type": "code",
   "execution_count": 4,
   "metadata": {},
   "outputs": [
    {
     "name": "stdout",
     "output_type": "stream",
     "text": [
      "Is ur mom gayyes\n",
      "yes\n"
     ]
    }
   ],
   "source": [
    "#Create an input that asks the user for their height\n",
    "\n",
    "question = 'Is ur mom gay' #Add the question here\n",
    "answer = input(question)\n",
    "\n",
    "#print the input below\n",
    "print(answer)"
   ]
  },
  {
   "cell_type": "code",
   "execution_count": 12,
   "metadata": {},
   "outputs": [],
   "source": [
    "#Here is a list with 10 numbers\n",
    "tempList = [17396,6352,7593,2051,735,6,82,925,23,82]"
   ]
  },
  {
   "cell_type": "code",
   "execution_count": 14,
   "metadata": {},
   "outputs": [
    {
     "name": "stdout",
     "output_type": "stream",
     "text": [
      "7593\n"
     ]
    }
   ],
   "source": [
    "#print out the value of the 3rd object inside the list\n",
    "\n",
    "thirdObj = tempList[2] #replace ? with the correct number\n",
    "print(thirdObj)"
   ]
  },
  {
   "cell_type": "code",
   "execution_count": 16,
   "metadata": {},
   "outputs": [
    {
     "name": "stdout",
     "output_type": "stream",
     "text": [
      "82\n"
     ]
    }
   ],
   "source": [
    "#print out the value of the 7th object inside the list\n",
    "\n",
    "seventhObj = tempList[6] #replace ? with the correct number\n",
    "print(seventhObj)"
   ]
  },
  {
   "cell_type": "code",
   "execution_count": 8,
   "metadata": {},
   "outputs": [
    {
     "name": "stdout",
     "output_type": "stream",
     "text": [
      "82\n"
     ]
    }
   ],
   "source": [
    "#print out the value of the last object inside the list\n",
    "\n",
    "lastObj = tempList[9] #replace ? with the correct number\n",
    "print(lastObj)"
   ]
  },
  {
   "cell_type": "code",
   "execution_count": 17,
   "metadata": {},
   "outputs": [
    {
     "name": "stdout",
     "output_type": "stream",
     "text": [
      "7593\n"
     ]
    }
   ],
   "source": [
    "#Using if else statement, print the larger number\n",
    "\n",
    "#Options\n",
    "# >\n",
    "# <\n",
    "# ==\n",
    "# !=\n",
    "# thirdObj\n",
    "# seventhObj\n",
    "\n",
    "#replace ? with the correct answer\n",
    "if thirdObj < seventhObj:\n",
    "    print(seventhObj)\n",
    "else:\n",
    "    print(thirdObj)\n"
   ]
  },
  {
   "cell_type": "code",
   "execution_count": 10,
   "metadata": {},
   "outputs": [
    {
     "name": "stdout",
     "output_type": "stream",
     "text": [
      "Equal\n"
     ]
    }
   ],
   "source": [
    "#Using if else statement, print 'Equal' if both numbers are equal\n",
    "\n",
    "#Options\n",
    "# >\n",
    "# <\n",
    "# ==\n",
    "# !=\n",
    "# Not Equal\n",
    "# Equal\n",
    "\n",
    "#replace ? with the correct answer\n",
    "if lastObj != seventhObj:\n",
    "    print('Not Equal')\n",
    "else:\n",
    "    print('Equal')\n"
   ]
  },
  {
   "cell_type": "code",
   "execution_count": 3,
   "metadata": {},
   "outputs": [
    {
     "name": "stdout",
     "output_type": "stream",
     "text": [
      "17396\n",
      "6352\n",
      "7593\n",
      "2051\n",
      "735\n",
      "6\n",
      "82\n",
      "925\n",
      "23\n",
      "82\n"
     ]
    }
   ],
   "source": [
    "#Using a while loop, print out all values inside the list\n",
    "\n",
    "#Options\n",
    "# *=\n",
    "# -=\n",
    "# +=\n",
    "# ++\n",
    "# >\n",
    "# <\n",
    "\n",
    "times = 0\n",
    "length = len(tempList) #Length of list\n",
    "\n",
    "#replace ? with the correct answer\n",
    "while times < length:\n",
    "    print(tempList[times])\n",
    "    \n",
    "    times += 1"
   ]
  },
  {
   "cell_type": "code",
   "execution_count": 4,
   "metadata": {},
   "outputs": [
    {
     "name": "stdout",
     "output_type": "stream",
     "text": [
      "17396\n",
      "6352\n",
      "6\n",
      "82\n",
      "82\n"
     ]
    }
   ],
   "source": [
    "#Print all even numbers in tempList\n",
    "\n",
    "#Options\n",
    "# %\n",
    "# //\n",
    "# /\n",
    "# +\n",
    "# i\n",
    "# tempList\n",
    "\n",
    "#Replace ? with the correct answer\n",
    "for i in tempList:\n",
    "    if i % 2 == 0:\n",
    "        print(i)\n",
    "\n"
   ]
  },
  {
   "cell_type": "code",
   "execution_count": 5,
   "metadata": {},
   "outputs": [
    {
     "name": "stdout",
     "output_type": "stream",
     "text": [
      "17396\n"
     ]
    }
   ],
   "source": [
    "#max() is a function that finds the largest number in a list\n",
    "#Here is an example how it is used\n",
    "print(max(tempList))"
   ]
  },
  {
   "cell_type": "code",
   "execution_count": 6,
   "metadata": {},
   "outputs": [
    {
     "name": "stdout",
     "output_type": "stream",
     "text": [
      "6\n"
     ]
    }
   ],
   "source": [
    "#min() is a function that finds the smallest number in a list\n",
    "#Here is an example how it is used\n",
    "print(min(tempList))"
   ]
  },
  {
   "cell_type": "code",
   "execution_count": 8,
   "metadata": {},
   "outputs": [
    {
     "name": "stdout",
     "output_type": "stream",
     "text": [
      "17390\n"
     ]
    }
   ],
   "source": [
    "#Using min() and max()\n",
    "#find the difference between the largest and smallest number\n",
    "\n",
    "print(max(tempList) - min(tempList))"
   ]
  },
  {
   "cell_type": "code",
   "execution_count": null,
   "metadata": {},
   "outputs": [],
   "source": []
  }
 ],
 "metadata": {
  "kernelspec": {
   "display_name": "Python 3 (ipykernel)",
   "language": "python",
   "name": "python3"
  },
  "language_info": {
   "codemirror_mode": {
    "name": "ipython",
    "version": 3
   },
   "file_extension": ".py",
   "mimetype": "text/x-python",
   "name": "python",
   "nbconvert_exporter": "python",
   "pygments_lexer": "ipython3",
   "version": "3.9.12"
  }
 },
 "nbformat": 4,
 "nbformat_minor": 4
}
