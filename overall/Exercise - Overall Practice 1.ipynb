{
 "cells": [
  {
   "cell_type": "code",
   "execution_count": null,
   "metadata": {},
   "outputs": [],
   "source": [
    "#print a string\n",
    "print(?)"
   ]
  },
  {
   "cell_type": "code",
   "execution_count": null,
   "metadata": {},
   "outputs": [],
   "source": [
    "#print 4+3/2\n",
    "print(?)"
   ]
  },
  {
   "cell_type": "code",
   "execution_count": null,
   "metadata": {},
   "outputs": [],
   "source": [
    "#print the combination of two strings\n",
    "print(? + ?)"
   ]
  },
  {
   "cell_type": "code",
   "execution_count": null,
   "metadata": {},
   "outputs": [],
   "source": [
    "#create a list of 3 strings and 2 integers\n",
    "tempList = [?,?,?,?,?]"
   ]
  },
  {
   "cell_type": "code",
   "execution_count": null,
   "metadata": {},
   "outputs": [],
   "source": [
    "#print out the value of the 3rd object inside the list\n",
    "print(tempList[?])"
   ]
  },
  {
   "cell_type": "code",
   "execution_count": null,
   "metadata": {},
   "outputs": [],
   "source": [
    "#print out the value of the 4th object inside the list\n",
    "print(tempList[?])"
   ]
  },
  {
   "cell_type": "code",
   "execution_count": null,
   "metadata": {},
   "outputs": [],
   "source": [
    "#print out the value of the 1st object inside the list\n",
    "print(tempList[?])"
   ]
  },
  {
   "cell_type": "code",
   "execution_count": null,
   "metadata": {},
   "outputs": [],
   "source": [
    "#Using a for loop, print out all values inside the list\n",
    "for ? in tempList:\n",
    "    print(?)"
   ]
  },
  {
   "cell_type": "code",
   "execution_count": null,
   "metadata": {},
   "outputs": [],
   "source": [
    "#Ali has 12 apples. Bala has 43 more apples than Ali. Sally has 1/5 the amount of apples as Bala\n",
    "#Using codes, calculate the total number of apples Ali, Bala, and Sally have altogether\n",
    "\n",
    "#Multiply - *\n",
    "#Divide - /\n",
    "\n",
    "ali = ?\n",
    "bala = ?\n",
    "sally = ?\n",
    "\n",
    "print (?)"
   ]
  },
  {
   "cell_type": "code",
   "execution_count": null,
   "metadata": {},
   "outputs": [],
   "source": [
    "#Crystal has 73 oranges. David has 3 more oranges than Crystal. Shaun has 1/2 the amount of oranges as David and Crystal\n",
    "#Using codes, calculate the total number of oranges Crystal, David, and Shaun have altogether\n",
    "\n",
    "crystal = ?\n",
    "david = ?\n",
    "shaun = ?\n",
    "\n",
    "print (?)"
   ]
  },
  {
   "cell_type": "code",
   "execution_count": null,
   "metadata": {},
   "outputs": [],
   "source": [
    "#Kawing and Sheryl have 102 peaches in total. Kawing has twice as much peach as Sheryl. \n",
    "#Mabel has 1/2 the amount of peach as sheryl\n",
    "#Using codes, calculate the total number of peaches Kawing, Sheryl, and Mabel have altogether\n",
    "\n",
    "#kawing = 2u\n",
    "#sheryl = 1u\n",
    "\n",
    "#1u = 102/3\n",
    "\n",
    "kawing = ?\n",
    "sheryl = ?\n",
    "mabel = ?\n",
    "print (?)\n"
   ]
  },
  {
   "cell_type": "code",
   "execution_count": null,
   "metadata": {},
   "outputs": [],
   "source": [
    "#Daryl and Su had 54 pearls in total, after daryl gives su 9 pearls, they have the same number of pearls\n",
    "#How many pearls did daryl and su have in the begining\n",
    "daryl = ?\n",
    "su = ?\n",
    "Total = ?\n",
    "print('Daryl had ' + daryl + ' pearls')\n",
    "print('Su had ' + su + ' pearls')"
   ]
  },
  {
   "cell_type": "code",
   "execution_count": null,
   "metadata": {},
   "outputs": [],
   "source": [
    "#Find the sum of every number from 1 to 500\n",
    "# x += 1 is the same as x = x + 1 \n",
    "\n",
    "\n",
    "total = 0\n",
    "for i in range(?):\n",
    "    total += ?\n",
    "print(?)"
   ]
  },
  {
   "cell_type": "code",
   "execution_count": null,
   "metadata": {},
   "outputs": [],
   "source": [
    "#Divide all the numbers in the list by 2 and add them together\n",
    "question_list = [1,2,3,4,5,6,7,8,9,62,8,234,8,4790,42,415,8,56905,3855,0,45152,37,45355,55,255]\n",
    "\n",
    "\n",
    "total = 0\n",
    "for ? in question_list:\n",
    "    total += ?\n",
    "print(?)\n"
   ]
  },
  {
   "cell_type": "code",
   "execution_count": null,
   "metadata": {},
   "outputs": [],
   "source": []
  }
 ],
 "metadata": {
  "kernelspec": {
   "display_name": "Python 3",
   "language": "python",
   "name": "python3"
  },
  "language_info": {
   "codemirror_mode": {
    "name": "ipython",
    "version": 3
   },
   "file_extension": ".py",
   "mimetype": "text/x-python",
   "name": "python",
   "nbconvert_exporter": "python",
   "pygments_lexer": "ipython3",
   "version": "3.9.5"
  }
 },
 "nbformat": 4,
 "nbformat_minor": 4
}
