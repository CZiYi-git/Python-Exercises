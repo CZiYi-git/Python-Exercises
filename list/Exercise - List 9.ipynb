{
 "cells": [
  {
   "cell_type": "code",
   "execution_count": null,
   "id": "a108f2cc",
   "metadata": {},
   "outputs": [],
   "source": [
    "# Create an empty list called my_list.\n",
    "\n",
    "my_list = ____\n",
    "print(my_list)"
   ]
  },
  {
   "cell_type": "code",
   "execution_count": null,
   "id": "0ad431e9",
   "metadata": {},
   "outputs": [],
   "source": [
    "# Create a list containing three integers: 1, 2, and 3.\n",
    "\n",
    "my_list = [_____]\n",
    "print(my_list)"
   ]
  },
  {
   "cell_type": "code",
   "execution_count": null,
   "id": "028c31c1",
   "metadata": {},
   "outputs": [],
   "source": [
    "# Add the integer 4 to the end of my_list.\n",
    "\n",
    "my_list.____(4)\n",
    "print(my_list)"
   ]
  },
  {
   "cell_type": "code",
   "execution_count": null,
   "id": "35a6a81c",
   "metadata": {},
   "outputs": [],
   "source": [
    "# Remove the first item from my_list.\n",
    "\n",
    "my_list.____(__)\n",
    "print(my_list)"
   ]
  },
  {
   "cell_type": "code",
   "execution_count": null,
   "id": "3517b7f0",
   "metadata": {},
   "outputs": [],
   "source": [
    "# Sort my_list in ascending order.\n",
    "\n",
    "my_list._____()\n",
    "print(my_list)"
   ]
  },
  {
   "cell_type": "code",
   "execution_count": null,
   "id": "e1a495d9",
   "metadata": {},
   "outputs": [],
   "source": [
    "# Check if the integer 5 is in my_list.\n",
    "\n",
    "if 5 ____ my_list:\n",
    "    print(\"5 is in my_list\")\n",
    "else:\n",
    "    print(\"5 is not in my_list\")\n"
   ]
  },
  {
   "cell_type": "code",
   "execution_count": null,
   "id": "51631aeb",
   "metadata": {},
   "outputs": [],
   "source": [
    "# Create a new list called new_list that contains the elements of my_list plus the string \"hello\".\n",
    "\n",
    "new_list = my_list ____ [\"hello\"]\n",
    "print(my_list)"
   ]
  },
  {
   "cell_type": "code",
   "execution_count": null,
   "id": "c1adad67",
   "metadata": {},
   "outputs": [],
   "source": [
    "# Count the number of occurrences of the integer 2 in my_list.\n",
    "\n",
    "count = my_list.____(2)\n",
    "print(count)\n"
   ]
  },
  {
   "cell_type": "code",
   "execution_count": null,
   "id": "75f08035",
   "metadata": {},
   "outputs": [],
   "source": [
    "# Remove all occurrences of the integer 3 from my_list.\n",
    "\n",
    "while 3 in my_list:\n",
    "    my_list.____(3)\n",
    "print(my_list)"
   ]
  },
  {
   "cell_type": "code",
   "execution_count": null,
   "id": "92d095ec",
   "metadata": {},
   "outputs": [],
   "source": [
    "# Reverse the order of the elements in my_list.\n",
    "\n",
    "my_list._____()\n",
    "print(my_list)"
   ]
  },
  {
   "cell_type": "code",
   "execution_count": null,
   "id": "dc4c956e",
   "metadata": {},
   "outputs": [],
   "source": [
    "# Create a list containing three strings: \"apple\", \"banana\", and \"cherry\".\n",
    "\n",
    "my_list = [________]\n",
    "print(my_list)"
   ]
  },
  {
   "cell_type": "code",
   "execution_count": null,
   "id": "dcbd164d",
   "metadata": {},
   "outputs": [],
   "source": [
    "# Replace the second element of my_list with the string \"orange\".\n",
    "\n",
    "my_list[____] = \"orange\"\n",
    "print(my_list)"
   ]
  },
  {
   "cell_type": "code",
   "execution_count": null,
   "id": "c0efa4af",
   "metadata": {},
   "outputs": [],
   "source": [
    "# Create a new list called new_list that contains the first two elements of my_list.\n",
    "\n",
    "new_list = my_list[_____]\n",
    "print(my_list)"
   ]
  },
  {
   "cell_type": "code",
   "execution_count": null,
   "id": "d6883148",
   "metadata": {},
   "outputs": [],
   "source": [
    "# Extend my_list with the list [\"pear\", \"kiwi\"].\n",
    "\n",
    "my_list._____([\"pear\", \"kiwi\"])\n",
    "print(my_list)"
   ]
  },
  {
   "cell_type": "code",
   "execution_count": null,
   "id": "effec909",
   "metadata": {},
   "outputs": [],
   "source": [
    "# Insert the string \"grape\" at index 2 of my_list.\n",
    "\n",
    "my_list.insert(____, \"grape\")\n",
    "print(my_list)"
   ]
  },
  {
   "cell_type": "code",
   "execution_count": null,
   "id": "df2c7214",
   "metadata": {},
   "outputs": [],
   "source": [
    "# Remove the last element from my_list.\n",
    "\n",
    "my_list.___()\n",
    "print(my_list)"
   ]
  },
  {
   "cell_type": "code",
   "execution_count": null,
   "id": "089e5faf",
   "metadata": {},
   "outputs": [],
   "source": [
    "# Check if my_list is empty.\n",
    "\n",
    "if len(my_list) == ____:\n",
    "    print(\"my_list is empty\")\n",
    "else:\n",
    "    print(\"my_list is not empty\")\n"
   ]
  },
  {
   "cell_type": "code",
   "execution_count": null,
   "id": "e17d0bf6",
   "metadata": {},
   "outputs": [],
   "source": [
    "# Create a new list called reversed_list that contains the elements of my_list in reverse order.\n",
    "# hint: [::ans]\n",
    "reversed_list = my_list[____]\n",
    "print(my_list)"
   ]
  },
  {
   "cell_type": "code",
   "execution_count": null,
   "id": "f6d36507",
   "metadata": {},
   "outputs": [],
   "source": [
    "# Count the number of elements in my_list.\n",
    "\n",
    "count = len(my_list)\n",
    "print(count)\n"
   ]
  },
  {
   "cell_type": "code",
   "execution_count": null,
   "id": "04ab0364",
   "metadata": {},
   "outputs": [],
   "source": [
    "# Create a new list called sliced_list that contains every other element of my_list, starting with the first element.\n",
    "# hint: [start:stop:step]\n",
    "sliced_list = my_list[::2]\n",
    "print(my_list)"
   ]
  }
 ],
 "metadata": {
  "kernelspec": {
   "display_name": "Python 3",
   "language": "python",
   "name": "python3"
  },
  "language_info": {
   "codemirror_mode": {
    "name": "ipython",
    "version": 3
   },
   "file_extension": ".py",
   "mimetype": "text/x-python",
   "name": "python",
   "nbconvert_exporter": "python",
   "pygments_lexer": "ipython3",
   "version": "3.10.7"
  },
  "vscode": {
   "interpreter": {
    "hash": "9cf1319f6cc31bff9645e44198dd02698af19f7b9bd096b68ef0c4d62d5f5887"
   }
  }
 },
 "nbformat": 4,
 "nbformat_minor": 5
}
