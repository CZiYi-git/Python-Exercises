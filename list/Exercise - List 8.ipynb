{
 "cells": [
  {
   "cell_type": "code",
   "execution_count": 1,
   "id": "05fedceb",
   "metadata": {},
   "outputs": [
    {
     "name": "stdout",
     "output_type": "stream",
     "text": [
      "Index: 0 or ??, Value: hi\n",
      "Index: 1 or ??, Value: hello\n",
      "Index: 2 or ??, Value: world\n",
      "Index: 3 or ??, Value: my\n",
      "Index: 4 or ??, Value: name\n",
      "Index: 5 or ??, Value: is\n",
      "Index: 6 or -1, Value: deez nuts\n"
     ]
    }
   ],
   "source": [
    "#Replace '?' with the correct number to get the expected results\n",
    "temp_list = ['hi','hello','world','my','name','is','deez nuts']\n",
    "\n",
    "for i in range(len(temp_list)):\n",
    "    reverse = \"??\"\n",
    "    if i==len(temp_list)-1:\n",
    "        reverse = \"-\" + str(len(temp_list)-i)\n",
    "    print(f'Index: {str(i)} or {reverse}, Value: {temp_list[i]}')\n",
    "    "
   ]
  },
  {
   "cell_type": "code",
   "execution_count": 2,
   "id": "fd57f0f2",
   "metadata": {},
   "outputs": [
    {
     "name": "stdout",
     "output_type": "stream",
     "text": [
      "hiname\n"
     ]
    }
   ],
   "source": [
    "#string = temp_list[?]+temp_list[?]\n",
    "string = temp_list[0]+temp_list[4]\n",
    "print(string)\n",
    "\n",
    "# Expected answer:\n",
    "# hiname"
   ]
  },
  {
   "cell_type": "code",
   "execution_count": 4,
   "id": "25290013",
   "metadata": {},
   "outputs": [
    {
     "name": "stdout",
     "output_type": "stream",
     "text": [
      "helloworld\n"
     ]
    }
   ],
   "source": [
    "#string = temp_list[-?]+temp_list[-?]\n",
    "string = temp_list[-6]+temp_list[-5]\n",
    "print(string)\n",
    "\n",
    "# Expected answer:\n",
    "# helloworld"
   ]
  },
  {
   "cell_type": "code",
   "execution_count": 5,
   "id": "tracked-protection",
   "metadata": {},
   "outputs": [
    {
     "name": "stdout",
     "output_type": "stream",
     "text": [
      "hellodeez nuts\n"
     ]
    }
   ],
   "source": [
    "#string = temp_list[?]+temp_list[-?]\n",
    "string = temp_list[1]+temp_list[-1]\n",
    "print(string)\n",
    "\n",
    "# Expected answer:\n",
    "# himyname"
   ]
  },
  {
   "cell_type": "code",
   "execution_count": 7,
   "id": "ccdbfa31",
   "metadata": {},
   "outputs": [
    {
     "name": "stdout",
     "output_type": "stream",
     "text": [
      "helloworldmy\n"
     ]
    }
   ],
   "source": [
    "#string = ''.join(temp_list[?:?])\n",
    "string = ''.join(temp_list[1:4])\n",
    "print(string)\n",
    "\n",
    "# Expected answer:\n",
    "# hihelloworldmy"
   ]
  },
  {
   "cell_type": "code",
   "execution_count": 9,
   "id": "a783776a",
   "metadata": {},
   "outputs": [
    {
     "name": "stdout",
     "output_type": "stream",
     "text": [
      "worldmyname\n"
     ]
    }
   ],
   "source": [
    "#string = ''.join(temp_list[?:?])\n",
    "string = ''.join(temp_list[2:5])\n",
    "print(string)\n",
    "\n",
    "# Expected answer:\n",
    "# worldmyname"
   ]
  },
  {
   "cell_type": "code",
   "execution_count": 14,
   "id": "41504a6d",
   "metadata": {},
   "outputs": [
    {
     "name": "stdout",
     "output_type": "stream",
     "text": [
      "isdeez nuts\n"
     ]
    }
   ],
   "source": [
    "#string = ''.join(temp_list[?:?])\n",
    "string = ''.join(temp_list[5:7])\n",
    "print(string)\n",
    "\n",
    "# Expected answer:\n",
    "# ismyname"
   ]
  },
  {
   "cell_type": "code",
   "execution_count": 17,
   "id": "953fe900",
   "metadata": {},
   "outputs": [
    {
     "name": "stdout",
     "output_type": "stream",
     "text": [
      "worldmynamedeez nuts\n"
     ]
    }
   ],
   "source": [
    "#string = ''.join(temp_list[?:?])+temp_list[?]\n",
    "string = ''.join(temp_list[2:5])+temp_list[6]\n",
    "print(string)\n",
    "\n",
    "# Expected answer:\n",
    "# worldmynamemyname"
   ]
  },
  {
   "cell_type": "code",
   "execution_count": 19,
   "id": "cleared-australian",
   "metadata": {},
   "outputs": [
    {
     "name": "stdout",
     "output_type": "stream",
     "text": [
      "isdeez nutshihello\n"
     ]
    }
   ],
   "source": [
    "#string = ''.join(temp_list[?:?]+temp_list[?:?])\n",
    "string = ''.join(temp_list[5:7]+temp_list[0:2])\n",
    "print(string)\n",
    "\n",
    "# Expected answer:\n",
    "# ismynamehihello"
   ]
  },
  {
   "cell_type": "code",
   "execution_count": 20,
   "id": "similar-cradle",
   "metadata": {},
   "outputs": [
    {
     "name": "stdout",
     "output_type": "stream",
     "text": [
      "deez nutsnameis\n"
     ]
    }
   ],
   "source": [
    "#string = temp_list[?] + ''.join(temp_list[?:?])\n",
    "string = temp_list[6] + ''.join(temp_list[4:6])\n",
    "print(string)\n",
    "\n",
    "# Expected answer:\n",
    "# mynamenameis"
   ]
  },
  {
   "cell_type": "code",
   "execution_count": null,
   "id": "military-mailman",
   "metadata": {},
   "outputs": [],
   "source": [
    "#string = ''.join(temp_list[?:?]+temp_list[?:?])\n",
    "string = ''.join(temp_list[?:?]+temp_list[?:?])\n",
    "print(string)\n",
    "\n",
    "# Expected answer:\n",
    "# helloworldhi"
   ]
  },
  {
   "cell_type": "code",
   "execution_count": 22,
   "id": "global-psychiatry",
   "metadata": {},
   "outputs": [
    {
     "name": "stdout",
     "output_type": "stream",
     "text": [
      "nameisdeez nutshihello\n"
     ]
    }
   ],
   "source": [
    "#string = ''.join(temp_list[?:?]+temp_list[?:?])\n",
    "string = ''.join(temp_list[4:7]+temp_list[0:2])\n",
    "print(string)\n",
    "\n",
    "# Expected answer:\n",
    "# nameismynamehihello"
   ]
  },
  {
   "cell_type": "code",
   "execution_count": 24,
   "id": "cd53040d",
   "metadata": {},
   "outputs": [
    {
     "name": "stdout",
     "output_type": "stream",
     "text": [
      "namedeez nuts\n"
     ]
    }
   ],
   "source": [
    "#string = temp_list[?]+temp_list[-?]\n",
    "string = temp_list[4]+temp_list[-1]\n",
    "print(string)\n",
    "\n",
    "# Expected answer:\n",
    "# namemyname"
   ]
  },
  {
   "cell_type": "code",
   "execution_count": 25,
   "id": "7dc5baa1",
   "metadata": {},
   "outputs": [
    {
     "name": "stdout",
     "output_type": "stream",
     "text": [
      "hihellohellohihellohello\n"
     ]
    }
   ],
   "source": [
    "# hee = temp_list[?]+temp_list[?]+temp_list[?]\n",
    "hihellohello = temp_list[0]+temp_list[1]+temp_list[1]\n",
    "string = hihellohello+hihellohello\n",
    "print(string)\n",
    "\n",
    "# Expected answer:\n",
    "# hihellohellohihellohello"
   ]
  },
  {
   "cell_type": "code",
   "execution_count": 26,
   "id": "express-optics",
   "metadata": {},
   "outputs": [
    {
     "name": "stdout",
     "output_type": "stream",
     "text": [
      "worldworldmy\n"
     ]
    }
   ],
   "source": [
    "#string = temp_list[?] + ''.join(temp_list[?:?])\n",
    "string = temp_list[1] + ''.join(temp_list[2:4])\n",
    "print(string)\n",
    "\n",
    "# Expected answer:\n",
    "# hellohelloworld"
   ]
  },
  {
   "cell_type": "code",
   "execution_count": null,
   "id": "8cb34c81",
   "metadata": {},
   "outputs": [],
   "source": [
    "#string = temp_list[?] + ''.join(temp_list[?:?])\n",
    "string = temp_list[?] + ''.join(temp_list[?:?])\n",
    "print(string)\n",
    "\n",
    "# Expected answer:\n",
    "# hihelloworld"
   ]
  },
  {
   "cell_type": "code",
   "execution_count": null,
   "id": "f36d76fe",
   "metadata": {},
   "outputs": [],
   "source": [
    "#string = temp_list[?] + ''.join(temp_list[?:?])\n",
    "string = temp_list[?] + ''.join(temp_list[?:?])\n",
    "print(string)\n",
    "\n",
    "# Expected answer:\n",
    "# mynamemynameismyname"
   ]
  }
 ],
 "metadata": {
  "kernelspec": {
   "display_name": "Python 3 (ipykernel)",
   "language": "python",
   "name": "python3"
  },
  "language_info": {
   "codemirror_mode": {
    "name": "ipython",
    "version": 3
   },
   "file_extension": ".py",
   "mimetype": "text/x-python",
   "name": "python",
   "nbconvert_exporter": "python",
   "pygments_lexer": "ipython3",
   "version": "3.10.8"
  }
 },
 "nbformat": 4,
 "nbformat_minor": 5
}
