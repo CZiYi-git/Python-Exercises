{
 "cells": [
  {
   "cell_type": "code",
   "execution_count": 5,
   "id": "1b1065b0",
   "metadata": {},
   "outputs": [
    {
     "name": "stdout",
     "output_type": "stream",
     "text": [
      "Monday\n",
      "Tuesday\n",
      "Wednesday\n",
      "Thursday\n",
      "Friday\n",
      "Saturday\n",
      "Sunday\n"
     ]
    }
   ],
   "source": [
    "#Replace '?' with the correct number to get the expected results\n",
    "temp_list = [\"Monday\", \"Tuesday\", \"Wednesday\" ,\"Thursday\", \"Friday\", \"Saturday\", \"Sunday\"]\n",
    "\n",
    "for i in temp_list:\n",
    "    print(i)\n",
    "\n",
    "\n",
    "# Expected results:\n",
    "\n",
    "# Monday\n",
    "# Tuesday\n",
    "# Wednesday\n",
    "# Thursday\n",
    "# Friday\n",
    "# Saturday\n",
    "# Sunday"
   ]
  },
  {
   "cell_type": "code",
   "execution_count": 6,
   "id": "8c34ad57",
   "metadata": {},
   "outputs": [
    {
     "name": "stdout",
     "output_type": "stream",
     "text": [
      "Index: 0 or -7, Value: Monday\n",
      "Index: 1 or -6, Value: Tuesday\n",
      "Index: 2 or -5, Value: Wednesday\n",
      "Index: 3 or -4, Value: Thursday\n",
      "Index: 4 or -3, Value: Friday\n",
      "Index: 5 or -2, Value: Saturday\n",
      "Index: 6 or -1, Value: Sunday\n"
     ]
    }
   ],
   "source": [
    "#Replace '?' with the correct number to get the expected results\n",
    "temp_list = [\"Monday\", \"Tuesday\", \"Wednesday\" ,\"Thursday\", \"Friday\", \"Saturday\", \"Sunday\"]\n",
    "\n",
    "for i in range(len(temp_list)):\n",
    "    print(f'Index: {str(i)} or -{str(len(temp_list)-i)}, Value: {temp_list[i]}')"
   ]
  },
  {
   "cell_type": "code",
   "execution_count": 7,
   "id": "d13b3e86",
   "metadata": {},
   "outputs": [
    {
     "name": "stdout",
     "output_type": "stream",
     "text": [
      "Sunday\n"
     ]
    }
   ],
   "source": [
    "#Replace '?' with the correct number to get the expected results\n",
    "print(temp_list[6])\n",
    "\n",
    "#Expected answer: Sunday"
   ]
  },
  {
   "cell_type": "code",
   "execution_count": 8,
   "id": "cleared-australian",
   "metadata": {},
   "outputs": [
    {
     "name": "stdout",
     "output_type": "stream",
     "text": [
      "Friday\n"
     ]
    }
   ],
   "source": [
    "#Replace '?' with the correct number to get the expected results\n",
    "print(temp_list[4])\n",
    "\n",
    "#Expected answer: Friday"
   ]
  },
  {
   "cell_type": "code",
   "execution_count": 9,
   "id": "similar-cradle",
   "metadata": {},
   "outputs": [
    {
     "name": "stdout",
     "output_type": "stream",
     "text": [
      "Monday\n"
     ]
    }
   ],
   "source": [
    "#Replace '?' with the correct number to get the expected results\n",
    "print(temp_list[0])\n",
    "\n",
    "#Expected answer: Monday"
   ]
  },
  {
   "cell_type": "code",
   "execution_count": 12,
   "id": "global-psychiatry",
   "metadata": {},
   "outputs": [
    {
     "name": "stdout",
     "output_type": "stream",
     "text": [
      "['Tuesday', 'Wednesday', 'Thursday']\n"
     ]
    }
   ],
   "source": [
    "#Replace '?' with the correct number to get the expected results\n",
    "print(temp_list[1:4])\n",
    "\n",
    "#Expected answer:\n",
    "#[\"Tuesday\", \"Wednesday\" ,\"Thursday\"]"
   ]
  },
  {
   "cell_type": "code",
   "execution_count": 13,
   "id": "cd53040d",
   "metadata": {},
   "outputs": [
    {
     "name": "stdout",
     "output_type": "stream",
     "text": [
      "['Wednesday', 'Thursday', 'Friday']\n"
     ]
    }
   ],
   "source": [
    "#Replace '?' with the correct number to get the expected results\n",
    "print(temp_list[2:5])\n",
    "\n",
    "#Expected answer:\n",
    "#[\"Wednesday\", \"Thursday\", \"Friday\"]"
   ]
  },
  {
   "cell_type": "code",
   "execution_count": 14,
   "id": "7dc5baa1",
   "metadata": {},
   "outputs": [
    {
     "name": "stdout",
     "output_type": "stream",
     "text": [
      "['Saturday', 'Sunday']\n"
     ]
    }
   ],
   "source": [
    "#Replace '?' with the correct number to get the expected results\n",
    "print(temp_list[5:7])\n",
    "\n",
    "#Expected answer:\n",
    "#[\"Saturday\", \"Sunday\"]"
   ]
  },
  {
   "cell_type": "code",
   "execution_count": 16,
   "id": "express-optics",
   "metadata": {},
   "outputs": [
    {
     "name": "stdout",
     "output_type": "stream",
     "text": [
      "['Monday', 'Tuesday', 'Wednesday', 'Thursday']\n"
     ]
    }
   ],
   "source": [
    "#Replace '?' with the correct number to get the expected results\n",
    "print(temp_list[0:4])\n",
    "\n",
    "#Expected answer:\n",
    "#[\"Monday\", \"Tuesday\", \"Wednesday\" ,\"Thursday\"]"
   ]
  },
  {
   "cell_type": "code",
   "execution_count": 18,
   "id": "8cb34c81",
   "metadata": {},
   "outputs": [
    {
     "name": "stdout",
     "output_type": "stream",
     "text": [
      "['Tuesday', 'Wednesday', 'Thursday', 'Friday', 'Saturday']\n"
     ]
    }
   ],
   "source": [
    "#Replace '?' with the correct number to get the expected results\n",
    "print(temp_list[-6:-1])\n",
    "\n",
    "#Expected answer:\n",
    "#[\"Tuesday\", \"Wednesday\" ,\"Thursday\", \"Friday\", \"Saturday\"]"
   ]
  },
  {
   "cell_type": "code",
   "execution_count": 19,
   "id": "f36d76fe",
   "metadata": {},
   "outputs": [
    {
     "name": "stdout",
     "output_type": "stream",
     "text": [
      "['Saturday']\n"
     ]
    }
   ],
   "source": [
    "#Replace '?' with the correct number to get the expected results\n",
    "print(temp_list[-2:-1])\n",
    "\n",
    "#Expected answer:\n",
    "#[\"Saturday\"]"
   ]
  },
  {
   "cell_type": "code",
   "execution_count": 20,
   "id": "5290dfc0",
   "metadata": {},
   "outputs": [
    {
     "name": "stdout",
     "output_type": "stream",
     "text": [
      "[1, 2, 3, 4, 5, 6, 7]\n",
      "[7, 2, 3, 4, 5, 6, 1]\n"
     ]
    }
   ],
   "source": [
    "# Example - How to swap items in list\n",
    "example1 = [1,2,3,4,5,6,7]\n",
    "print(example1)\n",
    "\n",
    "# This creates a temporary variable\n",
    "temp = example1[-1]\n",
    "\n",
    "# Assign first item to last item\n",
    "example1[-1] = example1[0]\n",
    "\n",
    "# Assign temporary variable to first item\n",
    "example1[0] = temp\n",
    "\n",
    "print(example1)\n"
   ]
  },
  {
   "cell_type": "code",
   "execution_count": 21,
   "id": "4d4ced4f",
   "metadata": {},
   "outputs": [
    {
     "name": "stdout",
     "output_type": "stream",
     "text": [
      "[2, 3, 2, 3, 7, 8, 3]\n",
      "[3, 2, 2, 3, 7, 8, 3]\n"
     ]
    }
   ],
   "source": [
    "# Swap the 1st and 2nd item in the list\n",
    "import random\n",
    "li = [random.randint(0,10) for i in range(7)]\n",
    "\n",
    "print(li)\n",
    "\n",
    "temp = li[0]\n",
    "li[0] = li[1]\n",
    "li[1] = temp\n",
    "\n",
    "print(li)"
   ]
  },
  {
   "cell_type": "code",
   "execution_count": 23,
   "id": "a68dc306",
   "metadata": {},
   "outputs": [
    {
     "name": "stdout",
     "output_type": "stream",
     "text": [
      "[6, 3, 0, 5, 3, 7, 1]\n",
      "[6, 3, 0, 5, 3, 1, 7]\n"
     ]
    }
   ],
   "source": [
    "# Swap the 6th and 7th item in the list\n",
    "import random\n",
    "li = [random.randint(0,10) for i in range(7)]\n",
    "\n",
    "print(li)\n",
    "\n",
    "temp = li[5]\n",
    "li[5] = li[6]\n",
    "li[6] = temp\n",
    "\n",
    "print(li)"
   ]
  },
  {
   "cell_type": "code",
   "execution_count": 24,
   "id": "716fb051",
   "metadata": {},
   "outputs": [
    {
     "name": "stdout",
     "output_type": "stream",
     "text": [
      "[5, 8, 9, 3, 5, 6, 8]\n",
      "[5, 3, 9, 8, 5, 6, 8]\n"
     ]
    }
   ],
   "source": [
    "# Swap the 2nd and 4th item in the list\n",
    "import random\n",
    "li = [random.randint(0,10) for i in range(7)]\n",
    "\n",
    "print(li)\n",
    "\n",
    "temp = li[1]\n",
    "li[1] = li[3]\n",
    "li[3] = temp\n",
    "\n",
    "print(li)"
   ]
  },
  {
   "cell_type": "code",
   "execution_count": null,
   "id": "567f9597",
   "metadata": {},
   "outputs": [],
   "source": []
  }
 ],
 "metadata": {
  "kernelspec": {
   "display_name": "Python 3 (ipykernel)",
   "language": "python",
   "name": "python3"
  },
  "language_info": {
   "codemirror_mode": {
    "name": "ipython",
    "version": 3
   },
   "file_extension": ".py",
   "mimetype": "text/x-python",
   "name": "python",
   "nbconvert_exporter": "python",
   "pygments_lexer": "ipython3",
   "version": "3.10.8"
  }
 },
 "nbformat": 4,
 "nbformat_minor": 5
}
