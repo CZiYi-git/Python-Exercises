{
 "cells": [
  {
   "cell_type": "code",
   "execution_count": 2,
   "id": "tracked-protection",
   "metadata": {},
   "outputs": [
    {
     "name": "stdout",
     "output_type": "stream",
     "text": [
      "Index: 0 or -8, Value: dragonfruit\n",
      "Index: 1 or -7, Value: starfruit\n",
      "Index: 2 or -6, Value: durian\n",
      "Index: 3 or -5, Value: apple\n",
      "Index: 4 or -4, Value: pear\n",
      "Index: 5 or -3, Value: mango\n",
      "Index: 6 or -2, Value: banana\n",
      "Index: 7 or -1, Value: peach\n"
     ]
    }
   ],
   "source": [
    "#Replace '?' with the correct number to get the expected results\n",
    "temp_list = [\"dragonfruit\", \"starfruit\", \"durian\" ,\"apple\", \"pear\", \"mango\", \"banana\", \"peach\"]\n",
    "\n",
    "for i in range(len(temp_list)):\n",
    "    print(f'Index: {str(i)} or -{str(len(temp_list)-i)}, Value: {temp_list[i]}')\n",
    "\n"
   ]
  },
  {
   "cell_type": "code",
   "execution_count": 3,
   "id": "953fe900",
   "metadata": {},
   "outputs": [
    {
     "name": "stdout",
     "output_type": "stream",
     "text": [
      "pear\n"
     ]
    }
   ],
   "source": [
    "#Replace '?' with the correct number to get the expected results\n",
    "print(temp_list[4])\n",
    "\n",
    "#Expected answer: pear"
   ]
  },
  {
   "cell_type": "code",
   "execution_count": 4,
   "id": "cleared-australian",
   "metadata": {},
   "outputs": [
    {
     "name": "stdout",
     "output_type": "stream",
     "text": [
      "dragonfruit\n"
     ]
    }
   ],
   "source": [
    "#Replace '?' with the correct number to get the expected results\n",
    "print(temp_list[0])\n",
    "\n",
    "#Expected answer: dragonfruit"
   ]
  },
  {
   "cell_type": "code",
   "execution_count": 5,
   "id": "similar-cradle",
   "metadata": {},
   "outputs": [
    {
     "name": "stdout",
     "output_type": "stream",
     "text": [
      "peach\n"
     ]
    }
   ],
   "source": [
    "#Replace '?' with the correct number to get the expected results\n",
    "print(temp_list[7])\n",
    "\n",
    "#Expected answer: peach"
   ]
  },
  {
   "cell_type": "code",
   "execution_count": 6,
   "id": "military-mailman",
   "metadata": {},
   "outputs": [
    {
     "name": "stdout",
     "output_type": "stream",
     "text": [
      "dragonfruit\n",
      "starfruit\n",
      "durian\n",
      "apple\n",
      "pear\n",
      "mango\n",
      "banana\n",
      "peach\n"
     ]
    }
   ],
   "source": [
    "#Replace '?' with the correct number to get the expected results\n",
    "temp_list = [\"dragonfruit\", \"starfruit\", \"durian\" ,\"apple\", \"pear\", \"mango\", \"banana\", \"peach\"]\n",
    "\n",
    "for i in temp_list:\n",
    "    print(i)\n",
    "    \n",
    "# Expected results:\n",
    "\n",
    "# dragonfruit\n",
    "# starfruit\n",
    "# durian\n",
    "# apple\n",
    "# pear\n",
    "# mango\n",
    "# banana\n",
    "# peach"
   ]
  },
  {
   "cell_type": "code",
   "execution_count": 7,
   "id": "global-psychiatry",
   "metadata": {},
   "outputs": [
    {
     "name": "stdout",
     "output_type": "stream",
     "text": [
      "['starfruit', 'durian', 'apple']\n"
     ]
    }
   ],
   "source": [
    "#Replace '?' with the correct number to get the expected results\n",
    "print(temp_list[1:4])\n",
    "\n",
    "#Expected answer:\n",
    "#[\"starfruit\", \"durian\" ,\"apple\"]"
   ]
  },
  {
   "cell_type": "code",
   "execution_count": 8,
   "id": "7da2c2c2",
   "metadata": {},
   "outputs": [
    {
     "name": "stdout",
     "output_type": "stream",
     "text": [
      "Index: 0 or -8, Value: dragonfruit\n",
      "Index: 1 or -7, Value: starfruit\n",
      "Index: 2 or -6, Value: durian\n",
      "Index: 3 or -5, Value: apple\n",
      "Index: 4 or -4, Value: pear\n",
      "Index: 5 or -3, Value: mango\n",
      "Index: 6 or -2, Value: banana\n",
      "Index: 7 or -1, Value: peach\n"
     ]
    }
   ],
   "source": [
    "for i in range(len(temp_list)):\n",
    "    print(f'Index: {str(i)} or -{str(len(temp_list)-i)}, Value: {temp_list[i]}')\n"
   ]
  },
  {
   "cell_type": "code",
   "execution_count": 9,
   "id": "cd53040d",
   "metadata": {},
   "outputs": [
    {
     "name": "stdout",
     "output_type": "stream",
     "text": [
      "['mango', 'banana', 'peach']\n"
     ]
    }
   ],
   "source": [
    "#Replace '?' with the correct number to get the expected results\n",
    "print(temp_list[5:8])\n",
    "\n",
    "#Expected answer:\n",
    "#[\"mango\", \"banana\", \"peach\"]"
   ]
  },
  {
   "cell_type": "code",
   "execution_count": 10,
   "id": "7dc5baa1",
   "metadata": {},
   "outputs": [
    {
     "name": "stdout",
     "output_type": "stream",
     "text": [
      "['dragonfruit', 'starfruit']\n"
     ]
    }
   ],
   "source": [
    "#Replace '?' with the correct number to get the expected results\n",
    "print(temp_list[0:2])\n",
    "\n",
    "#Expected answer:\n",
    "#[\"dragonfruit\", \"starfruit\"]"
   ]
  },
  {
   "cell_type": "code",
   "execution_count": 11,
   "id": "express-optics",
   "metadata": {},
   "outputs": [
    {
     "name": "stdout",
     "output_type": "stream",
     "text": [
      "['dragonfruit', 'starfruit', 'durian', 'apple', 'pear', 'mango']\n"
     ]
    }
   ],
   "source": [
    "#Replace '?' with the correct number to get the expected results\n",
    "print(temp_list[0:6])\n",
    "\n",
    "#Expected answer:\n",
    "#[\"dragonfruit\", \"starfruit\", \"durian\" ,\"apple\", \"pear\", \"mango\"]"
   ]
  },
  {
   "cell_type": "code",
   "execution_count": 15,
   "id": "8cb34c81",
   "metadata": {},
   "outputs": [
    {
     "name": "stdout",
     "output_type": "stream",
     "text": [
      "['apple', 'pear', 'mango', 'banana', 'peach']\n"
     ]
    }
   ],
   "source": [
    "#Replace '?' with the correct number to get the expected results\n",
    "print(temp_list[-5:8])\n",
    "\n",
    "#Expected answer:\n",
    "#[\"apple\", \"pear\", \"mango\", \"banana\", \"peach\"]"
   ]
  },
  {
   "cell_type": "code",
   "execution_count": 19,
   "id": "f36d76fe",
   "metadata": {},
   "outputs": [
    {
     "name": "stdout",
     "output_type": "stream",
     "text": [
      "['mango', 'banana', 'peach']\n"
     ]
    }
   ],
   "source": [
    "#Replace '?' with the correct number to get the expected results\n",
    "print(temp_list[5:8])\n",
    "\n",
    "#Expected answer:\n",
    "#[\"mango\", \"banana\", \"peach\"]"
   ]
  },
  {
   "cell_type": "code",
   "execution_count": null,
   "id": "5290dfc0",
   "metadata": {},
   "outputs": [],
   "source": []
  }
 ],
 "metadata": {
  "kernelspec": {
   "display_name": "Python 3 (ipykernel)",
   "language": "python",
   "name": "python3"
  },
  "language_info": {
   "codemirror_mode": {
    "name": "ipython",
    "version": 3
   },
   "file_extension": ".py",
   "mimetype": "text/x-python",
   "name": "python",
   "nbconvert_exporter": "python",
   "pygments_lexer": "ipython3",
   "version": "3.9.12"
  }
 },
 "nbformat": 4,
 "nbformat_minor": 5
}
