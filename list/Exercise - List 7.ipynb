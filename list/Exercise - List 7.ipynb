{
 "cells": [
  {
   "cell_type": "code",
   "execution_count": 3,
   "id": "05fedceb",
   "metadata": {},
   "outputs": [
    {
     "name": "stdout",
     "output_type": "stream",
     "text": [
      "Index: 0 or -8, Value: a\n",
      "Index: 1 or ??, Value: b\n",
      "Index: 2 or ??, Value: c\n",
      "Index: 3 or ??, Value: d\n",
      "Index: 4 or ??, Value: e\n",
      "Index: 5 or ??, Value: f\n",
      "Index: 6 or ??, Value: g\n",
      "Index: 7 or -1, Value: h\n"
     ]
    }
   ],
   "source": [
    "#Replace '?' with the correct number to get the expected results\n",
    "temp_list = [\"a\", \"b\", \"c\" ,\"d\", \"e\", \"f\", \"g\", \"h\"]\n",
    "\n",
    "for i in range(len(temp_list)):\n",
    "    reverse = \"??\"\n",
    "    if i == 0 or i==len(temp_list)-1:\n",
    "        reverse = \"-\" + str(len(temp_list)-i)\n",
    "    print(f'Index: {str(i)} or {reverse}, Value: {temp_list[i]}')\n",
    "    "
   ]
  },
  {
   "cell_type": "code",
   "execution_count": 4,
   "id": "fd57f0f2",
   "metadata": {},
   "outputs": [
    {
     "name": "stdout",
     "output_type": "stream",
     "text": [
      "ah\n"
     ]
    }
   ],
   "source": [
    "#string = temp_list[?]+temp_list[?]\n",
    "string = temp_list[0]+temp_list[7]\n",
    "print(string)\n",
    "\n",
    "# Expected answer:\n",
    "# ah"
   ]
  },
  {
   "cell_type": "code",
   "execution_count": 5,
   "id": "25290013",
   "metadata": {},
   "outputs": [
    {
     "name": "stdout",
     "output_type": "stream",
     "text": [
      "ah\n"
     ]
    }
   ],
   "source": [
    "#string = temp_list[-?]+temp_list[-?]\n",
    "string = temp_list[-8]+temp_list[-1]\n",
    "print(string)\n",
    "\n",
    "# Expected answer:\n",
    "# ah"
   ]
  },
  {
   "cell_type": "code",
   "execution_count": 6,
   "id": "tracked-protection",
   "metadata": {},
   "outputs": [
    {
     "name": "stdout",
     "output_type": "stream",
     "text": [
      "ad\n"
     ]
    }
   ],
   "source": [
    "#string = temp_list[?]+temp_list[-?]\n",
    "string = temp_list[0]+temp_list[-5]\n",
    "print(string)\n",
    "\n",
    "# Expected answer:\n",
    "# af"
   ]
  },
  {
   "cell_type": "code",
   "execution_count": 7,
   "id": "ccdbfa31",
   "metadata": {},
   "outputs": [
    {
     "name": "stdout",
     "output_type": "stream",
     "text": [
      "abcd\n"
     ]
    }
   ],
   "source": [
    "#string = ''.join(temp_list[?:?])\n",
    "string = ''.join(temp_list[0:4])\n",
    "print(string)\n",
    "\n",
    "# Expected answer:\n",
    "# abcd"
   ]
  },
  {
   "cell_type": "code",
   "execution_count": 9,
   "id": "a783776a",
   "metadata": {},
   "outputs": [
    {
     "name": "stdout",
     "output_type": "stream",
     "text": [
      "cdef\n"
     ]
    }
   ],
   "source": [
    "#string = ''.join(temp_list[?:?])\n",
    "string = ''.join(temp_list[2:6])\n",
    "print(string)\n",
    "\n",
    "# Expected answer:\n",
    "# cdef"
   ]
  },
  {
   "cell_type": "code",
   "execution_count": 10,
   "id": "41504a6d",
   "metadata": {},
   "outputs": [
    {
     "name": "stdout",
     "output_type": "stream",
     "text": [
      "fg\n"
     ]
    }
   ],
   "source": [
    "#string = ''.join(temp_list[?:?])\n",
    "string = ''.join(temp_list[5:7])\n",
    "print(string)\n",
    "\n",
    "# Expected answer:\n",
    "# fg"
   ]
  },
  {
   "cell_type": "code",
   "execution_count": 12,
   "id": "953fe900",
   "metadata": {},
   "outputs": [
    {
     "name": "stdout",
     "output_type": "stream",
     "text": [
      "abd\n"
     ]
    }
   ],
   "source": [
    "#string = ''.join(temp_list[?:?])+temp_list[?]\n",
    "string = ''.join(temp_list[0:2])+temp_list[3]\n",
    "print(string)\n",
    "\n",
    "# Expected answer:\n",
    "# abd"
   ]
  },
  {
   "cell_type": "code",
   "execution_count": 13,
   "id": "cleared-australian",
   "metadata": {},
   "outputs": [
    {
     "name": "stdout",
     "output_type": "stream",
     "text": [
      "abde\n"
     ]
    }
   ],
   "source": [
    "#string = ''.join(temp_list[?:?]+temp_list[?:?])\n",
    "string = ''.join(temp_list[0:2]+temp_list[3:5])\n",
    "print(string)\n",
    "\n",
    "# Expected answer:\n",
    "# abde"
   ]
  },
  {
   "cell_type": "code",
   "execution_count": 15,
   "id": "similar-cradle",
   "metadata": {},
   "outputs": [
    {
     "name": "stdout",
     "output_type": "stream",
     "text": [
      "aefg\n"
     ]
    }
   ],
   "source": [
    "#string = temp_list[?] + ''.join(temp_list[?:?])\n",
    "string = temp_list[0] + ''.join(temp_list[4:7])\n",
    "print(string)\n",
    "\n",
    "# Expected answer:\n",
    "# aefg"
   ]
  },
  {
   "cell_type": "code",
   "execution_count": 17,
   "id": "military-mailman",
   "metadata": {},
   "outputs": [
    {
     "name": "stdout",
     "output_type": "stream",
     "text": [
      "bcfg\n"
     ]
    }
   ],
   "source": [
    "#string = ''.join(temp_list[?:?]+temp_list[?:?])\n",
    "string = ''.join(temp_list[1:3]+temp_list[5:7])\n",
    "print(string)\n",
    "\n",
    "# Expected answer:\n",
    "# bcfg"
   ]
  },
  {
   "cell_type": "code",
   "execution_count": null,
   "id": "global-psychiatry",
   "metadata": {},
   "outputs": [],
   "source": [
    "#string = ''.join(temp_list[?:?]+temp_list[?:?])\n",
    "string = ''.join(temp_list[?:?]+temp_list[?:?])\n",
    "print(string)\n",
    "\n",
    "# Expected answer:\n",
    "# abgh"
   ]
  },
  {
   "cell_type": "code",
   "execution_count": 21,
   "id": "cd53040d",
   "metadata": {},
   "outputs": [
    {
     "name": "stdout",
     "output_type": "stream",
     "text": [
      "gf\n"
     ]
    }
   ],
   "source": [
    "#string = temp_list[?]+temp_list[-?]\n",
    "string = temp_list[6]+temp_list[-3]\n",
    "print(string)\n",
    "\n",
    "# Expected answer:\n",
    "# gf"
   ]
  },
  {
   "cell_type": "code",
   "execution_count": 22,
   "id": "7dc5baa1",
   "metadata": {},
   "outputs": [
    {
     "name": "stdout",
     "output_type": "stream",
     "text": [
      "heehee\n"
     ]
    }
   ],
   "source": [
    "# hee = temp_list[?]+temp_list[?]+temp_list[?]\n",
    "hee = temp_list[7]+temp_list[4]+temp_list[4]\n",
    "string = hee+hee\n",
    "print(string)\n",
    "\n",
    "# Expected answer:\n",
    "# heehee"
   ]
  },
  {
   "cell_type": "code",
   "execution_count": 24,
   "id": "express-optics",
   "metadata": {},
   "outputs": [
    {
     "name": "stdout",
     "output_type": "stream",
     "text": [
      "gfg\n"
     ]
    }
   ],
   "source": [
    "#string = temp_list[?] + ''.join(temp_list[?:?])\n",
    "string = temp_list[6] + ''.join(temp_list[5:7])\n",
    "print(string)\n",
    "\n",
    "# Expected answer:\n",
    "# gfg"
   ]
  },
  {
   "cell_type": "code",
   "execution_count": 25,
   "id": "8cb34c81",
   "metadata": {},
   "outputs": [
    {
     "name": "stdout",
     "output_type": "stream",
     "text": [
      "hgh\n"
     ]
    }
   ],
   "source": [
    "#string = temp_list[?] + ''.join(temp_list[?:?])\n",
    "string = temp_list[7] + ''.join(temp_list[6:8])\n",
    "print(string)\n",
    "\n",
    "# Expected answer:\n",
    "# hgh"
   ]
  },
  {
   "cell_type": "code",
   "execution_count": 26,
   "id": "f36d76fe",
   "metadata": {},
   "outputs": [
    {
     "name": "stdout",
     "output_type": "stream",
     "text": [
      "gab\n"
     ]
    }
   ],
   "source": [
    "#string = temp_list[?] + ''.join(temp_list[?:?])\n",
    "string = temp_list[6] + ''.join(temp_list[0:2])\n",
    "print(string)\n",
    "\n",
    "# Expected answer:\n",
    "# gab"
   ]
  },
  {
   "cell_type": "code",
   "execution_count": 31,
   "id": "1f7a7a72",
   "metadata": {},
   "outputs": [
    {
     "name": "stdout",
     "output_type": "stream",
     "text": [
      "Hi Cher Pls Post Minecraft Code On Discord Plz. Thank You!\n"
     ]
    }
   ],
   "source": [
    "def saysomething():\n",
    "    print('Hi Cher Pls Post Minecraft Code On Discord Plz. Thank You!')\n",
    "\n",
    "saysomething()"
   ]
  },
  {
   "cell_type": "code",
   "execution_count": null,
   "id": "815f4c14",
   "metadata": {},
   "outputs": [],
   "source": []
  }
 ],
 "metadata": {
  "kernelspec": {
   "display_name": "Python 3 (ipykernel)",
   "language": "python",
   "name": "python3"
  },
  "language_info": {
   "codemirror_mode": {
    "name": "ipython",
    "version": 3
   },
   "file_extension": ".py",
   "mimetype": "text/x-python",
   "name": "python",
   "nbconvert_exporter": "python",
   "pygments_lexer": "ipython3",
   "version": "3.10.8"
  }
 },
 "nbformat": 4,
 "nbformat_minor": 5
}
